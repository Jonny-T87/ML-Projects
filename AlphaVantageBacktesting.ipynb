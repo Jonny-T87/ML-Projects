{
  "nbformat": 4,
  "nbformat_minor": 0,
  "metadata": {
    "colab": {
      "provenance": [],
      "authorship_tag": "ABX9TyOi/xgZiJDl9egSmJXSuyXR",
      "include_colab_link": true
    },
    "kernelspec": {
      "name": "python3",
      "display_name": "Python 3"
    },
    "language_info": {
      "name": "python"
    }
  },
  "cells": [
    {
      "cell_type": "markdown",
      "metadata": {
        "id": "view-in-github",
        "colab_type": "text"
      },
      "source": [
        "<a href=\"https://colab.research.google.com/github/Jonny-T87/ML-Projects/blob/main/AlphaVantageBacktesting.ipynb\" target=\"_parent\"><img src=\"https://colab.research.google.com/assets/colab-badge.svg\" alt=\"Open In Colab\"/></a>"
      ]
    },
    {
      "cell_type": "code",
      "source": [
        "#!pip install ta\n",
        "#!pip install alpha_vantage"
      ],
      "metadata": {
        "id": "y8Gw1HKMxM6F"
      },
      "execution_count": 177,
      "outputs": []
    },
    {
      "cell_type": "code",
      "execution_count": 178,
      "metadata": {
        "id": "4pGvCansw2DR"
      },
      "outputs": [],
      "source": [
        "import pandas as pd\n",
        "import numpy as np\n",
        "import ta\n",
        "from alpha_vantage.timeseries import TimeSeries"
      ]
    },
    {
      "cell_type": "code",
      "source": [
        "api_key = '48NWJANFMLOGHP0D'"
      ],
      "metadata": {
        "id": "51s_9F8DxBm4"
      },
      "execution_count": 179,
      "outputs": []
    },
    {
      "cell_type": "code",
      "source": [
        "# Initialize the TimeSeries object\n",
        "ts = TimeSeries(key=api_key, output_format='pandas')"
      ],
      "metadata": {
        "id": "u_vpAVYwyZy3"
      },
      "execution_count": 180,
      "outputs": []
    },
    {
      "cell_type": "code",
      "source": [
        "data, meta_data = ts.get_intraday(symbol='QQQ', interval='5min', outputsize='full', month='2024-07-05')"
      ],
      "metadata": {
        "id": "dDOlefOgyffe"
      },
      "execution_count": 181,
      "outputs": []
    },
    {
      "cell_type": "code",
      "source": [
        "data.to_csv('qqq_historical_data.csv')"
      ],
      "metadata": {
        "id": "GXg-9eZ8ygJg"
      },
      "execution_count": 182,
      "outputs": []
    },
    {
      "cell_type": "code",
      "source": [
        "# Load historical data\n",
        "data = pd.read_csv('qqq_historical_data.csv', parse_dates=True, index_col=0)"
      ],
      "metadata": {
        "id": "4sICMFH5yglN"
      },
      "execution_count": 183,
      "outputs": []
    },
    {
      "cell_type": "code",
      "source": [
        "data.sort_index(inplace=True)"
      ],
      "metadata": {
        "id": "fT-jAgJS3PQk"
      },
      "execution_count": 184,
      "outputs": []
    },
    {
      "cell_type": "code",
      "source": [
        "data.rename(columns={'1. open': 'open', '2. high': 'high', '3. low': 'low', '4. close': 'close', '5. volume': 'volume'}, inplace=True)"
      ],
      "metadata": {
        "id": "MwXK8lvb31Cm"
      },
      "execution_count": 185,
      "outputs": []
    },
    {
      "cell_type": "code",
      "source": [
        "data.head()"
      ],
      "metadata": {
        "colab": {
          "base_uri": "https://localhost:8080/",
          "height": 238
        },
        "id": "fg_VvddeyghI",
        "outputId": "975e09d0-2504-47cb-ca2b-3d98f16e087c"
      },
      "execution_count": 186,
      "outputs": [
        {
          "output_type": "execute_result",
          "data": {
            "text/plain": [
              "                       open    high     low   close  volume\n",
              "date                                                       \n",
              "2024-07-08 04:00:00  495.00  495.95  495.00  495.90  8362.0\n",
              "2024-07-08 04:05:00  495.90  495.98  495.81  495.91  8310.0\n",
              "2024-07-08 04:10:00  495.96  495.98  495.85  495.92  4092.0\n",
              "2024-07-08 04:15:00  495.88  495.95  495.75  495.86  2501.0\n",
              "2024-07-08 04:20:00  495.85  496.02  495.85  495.96  2538.0"
            ],
            "text/html": [
              "\n",
              "  <div id=\"df-d9afcbc4-59c0-49fd-87d4-bf6fe28edf41\" class=\"colab-df-container\">\n",
              "    <div>\n",
              "<style scoped>\n",
              "    .dataframe tbody tr th:only-of-type {\n",
              "        vertical-align: middle;\n",
              "    }\n",
              "\n",
              "    .dataframe tbody tr th {\n",
              "        vertical-align: top;\n",
              "    }\n",
              "\n",
              "    .dataframe thead th {\n",
              "        text-align: right;\n",
              "    }\n",
              "</style>\n",
              "<table border=\"1\" class=\"dataframe\">\n",
              "  <thead>\n",
              "    <tr style=\"text-align: right;\">\n",
              "      <th></th>\n",
              "      <th>open</th>\n",
              "      <th>high</th>\n",
              "      <th>low</th>\n",
              "      <th>close</th>\n",
              "      <th>volume</th>\n",
              "    </tr>\n",
              "    <tr>\n",
              "      <th>date</th>\n",
              "      <th></th>\n",
              "      <th></th>\n",
              "      <th></th>\n",
              "      <th></th>\n",
              "      <th></th>\n",
              "    </tr>\n",
              "  </thead>\n",
              "  <tbody>\n",
              "    <tr>\n",
              "      <th>2024-07-08 04:00:00</th>\n",
              "      <td>495.00</td>\n",
              "      <td>495.95</td>\n",
              "      <td>495.00</td>\n",
              "      <td>495.90</td>\n",
              "      <td>8362.0</td>\n",
              "    </tr>\n",
              "    <tr>\n",
              "      <th>2024-07-08 04:05:00</th>\n",
              "      <td>495.90</td>\n",
              "      <td>495.98</td>\n",
              "      <td>495.81</td>\n",
              "      <td>495.91</td>\n",
              "      <td>8310.0</td>\n",
              "    </tr>\n",
              "    <tr>\n",
              "      <th>2024-07-08 04:10:00</th>\n",
              "      <td>495.96</td>\n",
              "      <td>495.98</td>\n",
              "      <td>495.85</td>\n",
              "      <td>495.92</td>\n",
              "      <td>4092.0</td>\n",
              "    </tr>\n",
              "    <tr>\n",
              "      <th>2024-07-08 04:15:00</th>\n",
              "      <td>495.88</td>\n",
              "      <td>495.95</td>\n",
              "      <td>495.75</td>\n",
              "      <td>495.86</td>\n",
              "      <td>2501.0</td>\n",
              "    </tr>\n",
              "    <tr>\n",
              "      <th>2024-07-08 04:20:00</th>\n",
              "      <td>495.85</td>\n",
              "      <td>496.02</td>\n",
              "      <td>495.85</td>\n",
              "      <td>495.96</td>\n",
              "      <td>2538.0</td>\n",
              "    </tr>\n",
              "  </tbody>\n",
              "</table>\n",
              "</div>\n",
              "    <div class=\"colab-df-buttons\">\n",
              "\n",
              "  <div class=\"colab-df-container\">\n",
              "    <button class=\"colab-df-convert\" onclick=\"convertToInteractive('df-d9afcbc4-59c0-49fd-87d4-bf6fe28edf41')\"\n",
              "            title=\"Convert this dataframe to an interactive table.\"\n",
              "            style=\"display:none;\">\n",
              "\n",
              "  <svg xmlns=\"http://www.w3.org/2000/svg\" height=\"24px\" viewBox=\"0 -960 960 960\">\n",
              "    <path d=\"M120-120v-720h720v720H120Zm60-500h600v-160H180v160Zm220 220h160v-160H400v160Zm0 220h160v-160H400v160ZM180-400h160v-160H180v160Zm440 0h160v-160H620v160ZM180-180h160v-160H180v160Zm440 0h160v-160H620v160Z\"/>\n",
              "  </svg>\n",
              "    </button>\n",
              "\n",
              "  <style>\n",
              "    .colab-df-container {\n",
              "      display:flex;\n",
              "      gap: 12px;\n",
              "    }\n",
              "\n",
              "    .colab-df-convert {\n",
              "      background-color: #E8F0FE;\n",
              "      border: none;\n",
              "      border-radius: 50%;\n",
              "      cursor: pointer;\n",
              "      display: none;\n",
              "      fill: #1967D2;\n",
              "      height: 32px;\n",
              "      padding: 0 0 0 0;\n",
              "      width: 32px;\n",
              "    }\n",
              "\n",
              "    .colab-df-convert:hover {\n",
              "      background-color: #E2EBFA;\n",
              "      box-shadow: 0px 1px 2px rgba(60, 64, 67, 0.3), 0px 1px 3px 1px rgba(60, 64, 67, 0.15);\n",
              "      fill: #174EA6;\n",
              "    }\n",
              "\n",
              "    .colab-df-buttons div {\n",
              "      margin-bottom: 4px;\n",
              "    }\n",
              "\n",
              "    [theme=dark] .colab-df-convert {\n",
              "      background-color: #3B4455;\n",
              "      fill: #D2E3FC;\n",
              "    }\n",
              "\n",
              "    [theme=dark] .colab-df-convert:hover {\n",
              "      background-color: #434B5C;\n",
              "      box-shadow: 0px 1px 3px 1px rgba(0, 0, 0, 0.15);\n",
              "      filter: drop-shadow(0px 1px 2px rgba(0, 0, 0, 0.3));\n",
              "      fill: #FFFFFF;\n",
              "    }\n",
              "  </style>\n",
              "\n",
              "    <script>\n",
              "      const buttonEl =\n",
              "        document.querySelector('#df-d9afcbc4-59c0-49fd-87d4-bf6fe28edf41 button.colab-df-convert');\n",
              "      buttonEl.style.display =\n",
              "        google.colab.kernel.accessAllowed ? 'block' : 'none';\n",
              "\n",
              "      async function convertToInteractive(key) {\n",
              "        const element = document.querySelector('#df-d9afcbc4-59c0-49fd-87d4-bf6fe28edf41');\n",
              "        const dataTable =\n",
              "          await google.colab.kernel.invokeFunction('convertToInteractive',\n",
              "                                                    [key], {});\n",
              "        if (!dataTable) return;\n",
              "\n",
              "        const docLinkHtml = 'Like what you see? Visit the ' +\n",
              "          '<a target=\"_blank\" href=https://colab.research.google.com/notebooks/data_table.ipynb>data table notebook</a>'\n",
              "          + ' to learn more about interactive tables.';\n",
              "        element.innerHTML = '';\n",
              "        dataTable['output_type'] = 'display_data';\n",
              "        await google.colab.output.renderOutput(dataTable, element);\n",
              "        const docLink = document.createElement('div');\n",
              "        docLink.innerHTML = docLinkHtml;\n",
              "        element.appendChild(docLink);\n",
              "      }\n",
              "    </script>\n",
              "  </div>\n",
              "\n",
              "\n",
              "<div id=\"df-57080b26-0e25-48ed-b117-ba4a20e10240\">\n",
              "  <button class=\"colab-df-quickchart\" onclick=\"quickchart('df-57080b26-0e25-48ed-b117-ba4a20e10240')\"\n",
              "            title=\"Suggest charts\"\n",
              "            style=\"display:none;\">\n",
              "\n",
              "<svg xmlns=\"http://www.w3.org/2000/svg\" height=\"24px\"viewBox=\"0 0 24 24\"\n",
              "     width=\"24px\">\n",
              "    <g>\n",
              "        <path d=\"M19 3H5c-1.1 0-2 .9-2 2v14c0 1.1.9 2 2 2h14c1.1 0 2-.9 2-2V5c0-1.1-.9-2-2-2zM9 17H7v-7h2v7zm4 0h-2V7h2v10zm4 0h-2v-4h2v4z\"/>\n",
              "    </g>\n",
              "</svg>\n",
              "  </button>\n",
              "\n",
              "<style>\n",
              "  .colab-df-quickchart {\n",
              "      --bg-color: #E8F0FE;\n",
              "      --fill-color: #1967D2;\n",
              "      --hover-bg-color: #E2EBFA;\n",
              "      --hover-fill-color: #174EA6;\n",
              "      --disabled-fill-color: #AAA;\n",
              "      --disabled-bg-color: #DDD;\n",
              "  }\n",
              "\n",
              "  [theme=dark] .colab-df-quickchart {\n",
              "      --bg-color: #3B4455;\n",
              "      --fill-color: #D2E3FC;\n",
              "      --hover-bg-color: #434B5C;\n",
              "      --hover-fill-color: #FFFFFF;\n",
              "      --disabled-bg-color: #3B4455;\n",
              "      --disabled-fill-color: #666;\n",
              "  }\n",
              "\n",
              "  .colab-df-quickchart {\n",
              "    background-color: var(--bg-color);\n",
              "    border: none;\n",
              "    border-radius: 50%;\n",
              "    cursor: pointer;\n",
              "    display: none;\n",
              "    fill: var(--fill-color);\n",
              "    height: 32px;\n",
              "    padding: 0;\n",
              "    width: 32px;\n",
              "  }\n",
              "\n",
              "  .colab-df-quickchart:hover {\n",
              "    background-color: var(--hover-bg-color);\n",
              "    box-shadow: 0 1px 2px rgba(60, 64, 67, 0.3), 0 1px 3px 1px rgba(60, 64, 67, 0.15);\n",
              "    fill: var(--button-hover-fill-color);\n",
              "  }\n",
              "\n",
              "  .colab-df-quickchart-complete:disabled,\n",
              "  .colab-df-quickchart-complete:disabled:hover {\n",
              "    background-color: var(--disabled-bg-color);\n",
              "    fill: var(--disabled-fill-color);\n",
              "    box-shadow: none;\n",
              "  }\n",
              "\n",
              "  .colab-df-spinner {\n",
              "    border: 2px solid var(--fill-color);\n",
              "    border-color: transparent;\n",
              "    border-bottom-color: var(--fill-color);\n",
              "    animation:\n",
              "      spin 1s steps(1) infinite;\n",
              "  }\n",
              "\n",
              "  @keyframes spin {\n",
              "    0% {\n",
              "      border-color: transparent;\n",
              "      border-bottom-color: var(--fill-color);\n",
              "      border-left-color: var(--fill-color);\n",
              "    }\n",
              "    20% {\n",
              "      border-color: transparent;\n",
              "      border-left-color: var(--fill-color);\n",
              "      border-top-color: var(--fill-color);\n",
              "    }\n",
              "    30% {\n",
              "      border-color: transparent;\n",
              "      border-left-color: var(--fill-color);\n",
              "      border-top-color: var(--fill-color);\n",
              "      border-right-color: var(--fill-color);\n",
              "    }\n",
              "    40% {\n",
              "      border-color: transparent;\n",
              "      border-right-color: var(--fill-color);\n",
              "      border-top-color: var(--fill-color);\n",
              "    }\n",
              "    60% {\n",
              "      border-color: transparent;\n",
              "      border-right-color: var(--fill-color);\n",
              "    }\n",
              "    80% {\n",
              "      border-color: transparent;\n",
              "      border-right-color: var(--fill-color);\n",
              "      border-bottom-color: var(--fill-color);\n",
              "    }\n",
              "    90% {\n",
              "      border-color: transparent;\n",
              "      border-bottom-color: var(--fill-color);\n",
              "    }\n",
              "  }\n",
              "</style>\n",
              "\n",
              "  <script>\n",
              "    async function quickchart(key) {\n",
              "      const quickchartButtonEl =\n",
              "        document.querySelector('#' + key + ' button');\n",
              "      quickchartButtonEl.disabled = true;  // To prevent multiple clicks.\n",
              "      quickchartButtonEl.classList.add('colab-df-spinner');\n",
              "      try {\n",
              "        const charts = await google.colab.kernel.invokeFunction(\n",
              "            'suggestCharts', [key], {});\n",
              "      } catch (error) {\n",
              "        console.error('Error during call to suggestCharts:', error);\n",
              "      }\n",
              "      quickchartButtonEl.classList.remove('colab-df-spinner');\n",
              "      quickchartButtonEl.classList.add('colab-df-quickchart-complete');\n",
              "    }\n",
              "    (() => {\n",
              "      let quickchartButtonEl =\n",
              "        document.querySelector('#df-57080b26-0e25-48ed-b117-ba4a20e10240 button');\n",
              "      quickchartButtonEl.style.display =\n",
              "        google.colab.kernel.accessAllowed ? 'block' : 'none';\n",
              "    })();\n",
              "  </script>\n",
              "</div>\n",
              "\n",
              "    </div>\n",
              "  </div>\n"
            ],
            "application/vnd.google.colaboratory.intrinsic+json": {
              "type": "dataframe",
              "variable_name": "data",
              "summary": "{\n  \"name\": \"data\",\n  \"rows\": 4032,\n  \"fields\": [\n    {\n      \"column\": \"date\",\n      \"properties\": {\n        \"dtype\": \"date\",\n        \"min\": \"2024-07-08 04:00:00\",\n        \"max\": \"2024-08-05 19:55:00\",\n        \"num_unique_values\": 4032,\n        \"samples\": [\n          \"2024-07-15 18:50:00\",\n          \"2024-07-11 10:45:00\",\n          \"2024-07-11 11:50:00\"\n        ],\n        \"semantic_type\": \"\",\n        \"description\": \"\"\n      }\n    },\n    {\n      \"column\": \"open\",\n      \"properties\": {\n        \"dtype\": \"number\",\n        \"std\": 18.154750467123787,\n        \"min\": 421.49,\n        \"max\": 504.95,\n        \"num_unique_values\": 2635,\n        \"samples\": [\n          452.86,\n          475.62,\n          478.06\n        ],\n        \"semantic_type\": \"\",\n        \"description\": \"\"\n      }\n    },\n    {\n      \"column\": \"high\",\n      \"properties\": {\n        \"dtype\": \"number\",\n        \"std\": 17.919311905439727,\n        \"min\": 422.99,\n        \"max\": 505.21,\n        \"num_unique_values\": 2541,\n        \"samples\": [\n          462.64,\n          499.16,\n          459.11\n        ],\n        \"semantic_type\": \"\",\n        \"description\": \"\"\n      }\n    },\n    {\n      \"column\": \"low\",\n      \"properties\": {\n        \"dtype\": \"number\",\n        \"std\": 18.520619707418643,\n        \"min\": 373.13,\n        \"max\": 504.29,\n        \"num_unique_values\": 2632,\n        \"samples\": [\n          497.26,\n          501.88,\n          488.3\n        ],\n        \"semantic_type\": \"\",\n        \"description\": \"\"\n      }\n    },\n    {\n      \"column\": \"close\",\n      \"properties\": {\n        \"dtype\": \"number\",\n        \"std\": 18.161748332377677,\n        \"min\": 421.49,\n        \"max\": 504.969,\n        \"num_unique_values\": 2700,\n        \"samples\": [\n          482.04,\n          474.923,\n          477.72\n        ],\n        \"semantic_type\": \"\",\n        \"description\": \"\"\n      }\n    },\n    {\n      \"column\": \"volume\",\n      \"properties\": {\n        \"dtype\": \"number\",\n        \"std\": 396824.0553373082,\n        \"min\": 29.0,\n        \"max\": 4912764.0,\n        \"num_unique_values\": 3948,\n        \"samples\": [\n          293790.0,\n          8230.0,\n          429473.0\n        ],\n        \"semantic_type\": \"\",\n        \"description\": \"\"\n      }\n    }\n  ]\n}"
            }
          },
          "metadata": {},
          "execution_count": 186
        }
      ]
    },
    {
      "cell_type": "code",
      "source": [
        "# Calculate indicators\n",
        "data['100EMA'] = ta.trend.EMAIndicator(data['close'], window=100).ema_indicator()\n",
        "macd = ta.trend.MACD(data['close'], window_slow=50, window_fast=12, window_sign=9)  # Adjust window_slow and window_fast as needed\n",
        "data['MACD'] = macd.macd()\n",
        "data['MACD_signal'] = macd.macd_signal()\n",
        "#data['CCI'] = ta.trend.CCIIndicator(data['high'], data['low'], data['close'], window=20).cci()\n",
        "#stoch = ta.momentum.StochasticOscillator(data['high'], data['low'], data['close'])\n",
        "#data['Stochastic_%K'] = stoch.stoch()\n",
        "#data['Stochastic_%D'] = stoch.stoch_signal()\n",
        "data['VWAP'] = (data['volume'] * (data['high'] + data['low'] + data['close']) / 3).cumsum() / data['volume'].cumsum()\n"
      ],
      "metadata": {
        "id": "ueue5q-0yhBr"
      },
      "execution_count": 187,
      "outputs": []
    },
    {
      "cell_type": "code",
      "source": [
        "# Define the strategy\n",
        "def strategy(df):\n",
        "    df['Signal'] = 0\n",
        "    df['Signal'] = np.where(\n",
        "        (df['close'] > df['100EMA']) &\n",
        "        (df['MACD'] > df['MACD_signal']) &\n",
        "       # (df['CCI'] > -100) &\n",
        "       # (df['Stochastic_%K'] < 20) &\n",
        "       # (df['Stochastic_%K'] > df['Stochastic_%D']) &\n",
        "        (df['close'] > df['VWAP']), 1, df['Signal']\n",
        "    )\n",
        "    df['Signal'] = np.where(\n",
        "        (df['close'] < df['100EMA']) &\n",
        "        (df['MACD'] < df['MACD_signal']) &\n",
        "       # (df['CCI'] < 100) &\n",
        "       # (df['Stochastic_%K'] > 80) &\n",
        "       # (df['Stochastic_%K'] < df['Stochastic_%D']) &\n",
        "        (df['close'] < df['VWAP']), -1, df['Signal']\n",
        "    )\n",
        "    return df\n"
      ],
      "metadata": {
        "id": "2UauyG2Jz4rt"
      },
      "execution_count": 188,
      "outputs": []
    },
    {
      "cell_type": "code",
      "source": [
        "# Apply the strategy\n",
        "data = strategy(data)"
      ],
      "metadata": {
        "id": "1EKMRFjK1Vsz"
      },
      "execution_count": 189,
      "outputs": []
    },
    {
      "cell_type": "code",
      "source": [
        "# Count the number of trades per day\n",
        "data['Date'] = data.index.date\n",
        "trade_counts = data[data['Signal'] != 0].groupby('Date').size()"
      ],
      "metadata": {
        "id": "DikUFLvE2BCM"
      },
      "execution_count": 190,
      "outputs": []
    },
    {
      "cell_type": "code",
      "source": [
        "# Calculate the average number of trades per day\n",
        "average_trades_per_day = trade_counts.mean()"
      ],
      "metadata": {
        "id": "0QscDngO4KVT"
      },
      "execution_count": 191,
      "outputs": []
    },
    {
      "cell_type": "code",
      "source": [
        "# Print the results\n",
        "print(f\"Average number of trade opportunities per day: {average_trades_per_day:.2f}\")"
      ],
      "metadata": {
        "colab": {
          "base_uri": "https://localhost:8080/"
        },
        "id": "73aDMiPK4NAx",
        "outputId": "2c013603-a251-4b43-8e3e-6ddeee1f3f30"
      },
      "execution_count": 192,
      "outputs": [
        {
          "output_type": "stream",
          "name": "stdout",
          "text": [
            "Average number of trade opportunities per day: 61.90\n"
          ]
        }
      ]
    },
    {
      "cell_type": "code",
      "source": [
        "# Backtest the strategy\n",
        "data['Position'] = data['Signal'].shift()\n",
        "data['Daily_Return'] = data['close'].pct_change()\n",
        "data['Strategy_Return'] = data['Position'] * data['Daily_Return']"
      ],
      "metadata": {
        "id": "5EU71Bdz4N6r"
      },
      "execution_count": 193,
      "outputs": []
    },
    {
      "cell_type": "code",
      "source": [
        "# Calculate cumulative returns\n",
        "data['Cumulative_Market_Return'] = (1 + data['Daily_Return']).cumprod() - 1\n",
        "data['Cumulative_Strategy_Return'] = (1 + data['Strategy_Return']).cumprod() - 1"
      ],
      "metadata": {
        "id": "Xw-IcwXb4NnB"
      },
      "execution_count": 194,
      "outputs": []
    },
    {
      "cell_type": "code",
      "source": [
        "# Plot the results\n",
        "import matplotlib.pyplot as plt\n",
        "\n",
        "plt.figure(figsize=(14,7))\n",
        "plt.plot(data.index, data['Cumulative_Market_Return'], label='Market Return')\n",
        "plt.plot(data.index, data['Cumulative_Strategy_Return'], label='Strategy Return')\n",
        "plt.legend()\n",
        "plt.show()"
      ],
      "metadata": {
        "colab": {
          "base_uri": "https://localhost:8080/",
          "height": 599
        },
        "id": "KRgcUd0y4Njn",
        "outputId": "fd7001fd-9e5c-4a00-827e-6590d113b05e"
      },
      "execution_count": 195,
      "outputs": [
        {
          "output_type": "display_data",
          "data": {
            "text/plain": [
              "<Figure size 1400x700 with 1 Axes>"
            ],
            "image/png": "[encoded data removed]"
          },
          "metadata": {}
        }
      ]
    },
    {
      "cell_type": "code",
      "source": [],
      "metadata": {
        "id": "Erf0P3Rm4nUy"
      },
      "execution_count": null,
      "outputs": []
    }
  ]
}