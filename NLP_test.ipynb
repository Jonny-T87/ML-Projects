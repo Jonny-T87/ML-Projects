{
  "nbformat": 4,
  "nbformat_minor": 0,
  "metadata": {
    "colab": {
      "provenance": [],
      "authorship_tag": "ABX9TyODWO3/WXu6aehKmvTMe9wo",
      "include_colab_link": true
    },
    "kernelspec": {
      "name": "python3",
      "display_name": "Python 3"
    },
    "language_info": {
      "name": "python"
    }
  },
  "cells": [
    {
      "cell_type": "markdown",
      "metadata": {
        "id": "view-in-github",
        "colab_type": "text"
      },
      "source": [
        "<a href=\"https://colab.research.google.com/github/Jonny-T87/ML-Projects/blob/main/NLP_test.ipynb\" target=\"_parent\"><img src=\"https://colab.research.google.com/assets/colab-badge.svg\" alt=\"Open In Colab\"/></a>"
      ]
    },
    {
      "cell_type": "code",
      "source": [
        "#!pip install nltk\n",
        "\n",
        "import numpy as np\n",
        "import pandas as pd\n",
        "import matplotlib.pyplot as plt\n",
        "import nltk as nltk\n",
        "from nltk.tokenize import word_tokenize, sent_tokenize\n",
        "from nltk.stem.porter import PorterStemmer\n",
        "from nltk.stem import WordNetLemmatizer\n",
        "from nltk.corpus import wordnet as wn\n"
      ],
      "metadata": {
        "id": "gmCE1KtSo0Bd"
      },
      "execution_count": 14,
      "outputs": []
    },
    {
      "cell_type": "code",
      "source": [
        "#downloading nltk data\n",
        "nltk.download('punkt')\n",
        "nltk.download('wordnet')"
      ],
      "metadata": {
        "colab": {
          "base_uri": "https://localhost:8080/"
        },
        "id": "gtol8gpdbMSd",
        "outputId": "758d6617-dec1-45ca-8496-aa2bea9fe8e3"
      },
      "execution_count": 5,
      "outputs": [
        {
          "output_type": "stream",
          "name": "stderr",
          "text": [
            "[nltk_data] Downloading package punkt to /root/nltk_data...\n",
            "[nltk_data]   Unzipping tokenizers/punkt.zip.\n",
            "[nltk_data] Downloading package wordnet to /root/nltk_data...\n"
          ]
        },
        {
          "output_type": "execute_result",
          "data": {
            "text/plain": [
              "True"
            ]
          },
          "metadata": {},
          "execution_count": 5
        }
      ]
    },
    {
      "cell_type": "code",
      "source": [
        "#using text word tokenize\n",
        "text = \"One day or day one! It's your choice.\"\n",
        "\n",
        "print(word_tokenize(text))"
      ],
      "metadata": {
        "colab": {
          "base_uri": "https://localhost:8080/"
        },
        "id": "htbkqVIZbMPT",
        "outputId": "7f12cee5-ee5c-4729-85e1-8eeb22d4fc3c"
      },
      "execution_count": 6,
      "outputs": [
        {
          "output_type": "stream",
          "name": "stdout",
          "text": [
            "['One', 'day', 'or', 'day', 'one', '!', 'It', \"'s\", 'your', 'choice', '.']\n"
          ]
        }
      ]
    },
    {
      "cell_type": "code",
      "source": [
        "text2 = \"Where is the sun? Under the sea.\"\n",
        "\n",
        "print(word_tokenize(text2))"
      ],
      "metadata": {
        "colab": {
          "base_uri": "https://localhost:8080/"
        },
        "id": "RfcJdGtIkx1s",
        "outputId": "a5f36095-782e-408b-cf49-2af2c6185bca"
      },
      "execution_count": 7,
      "outputs": [
        {
          "output_type": "stream",
          "name": "stdout",
          "text": [
            "['Where', 'is', 'the', 'sun', '?', 'Under', 'the', 'sea', '.']\n"
          ]
        }
      ]
    },
    {
      "cell_type": "code",
      "source": [
        "#using sentence tokenizer\n",
        "text3 = \"One day or day one! It's your choice.\"\n",
        "\n",
        "print(sent_tokenize(text3))"
      ],
      "metadata": {
        "colab": {
          "base_uri": "https://localhost:8080/"
        },
        "id": "LDhQhqGlbMMP",
        "outputId": "7a7bf193-d191-4bd3-e231-547f8f32a3e6"
      },
      "execution_count": 8,
      "outputs": [
        {
          "output_type": "stream",
          "name": "stdout",
          "text": [
            "['One day or day one!', \"It's your choice.\"]\n"
          ]
        }
      ]
    },
    {
      "cell_type": "code",
      "source": [
        "text4 = \"Where is the sun? Under the sea.\"\n",
        "\n",
        "print(sent_tokenize(text4))"
      ],
      "metadata": {
        "colab": {
          "base_uri": "https://localhost:8080/"
        },
        "id": "6mTmlpwIk-3C",
        "outputId": "3aa3c7e6-d0a0-43d9-e92e-946a4ed000e6"
      },
      "execution_count": 9,
      "outputs": [
        {
          "output_type": "stream",
          "name": "stdout",
          "text": [
            "['Where is the sun?', 'Under the sea.']\n"
          ]
        }
      ]
    },
    {
      "cell_type": "code",
      "source": [
        "#using porter stemmer\n",
        "stemmer = PorterStemmer()\n",
        "\n",
        "print(stemmer.stem('painting'))\n",
        "print(stemmer.stem('paints'))\n",
        "print(stemmer.stem('painted'))"
      ],
      "metadata": {
        "colab": {
          "base_uri": "https://localhost:8080/"
        },
        "id": "UKc03eZpl_OF",
        "outputId": "f1abc52f-3189-4910-f1e2-59832b6613c1"
      },
      "execution_count": 10,
      "outputs": [
        {
          "output_type": "stream",
          "name": "stdout",
          "text": [
            "paint\n",
            "paint\n",
            "paint\n"
          ]
        }
      ]
    },
    {
      "cell_type": "code",
      "source": [
        "plurals = ['caresses', 'flies', 'dies', 'mules', 'denied',\n",
        "            'died', 'agreed', 'owned', 'humbled', 'sized',\n",
        "            'meeting', 'stating', 'siezing', 'itemization',\n",
        "            'sensational', 'traditional', 'reference', 'colonizer',\n",
        "            'plotted']\n",
        "\n",
        "\n",
        "singles = [stemmer.stem(plural) for plural in plurals]\n",
        "print(singles)"
      ],
      "metadata": {
        "colab": {
          "base_uri": "https://localhost:8080/"
        },
        "id": "MA0w_fyAVDxp",
        "outputId": "33221265-0687-4852-918e-201f0f216e2b"
      },
      "execution_count": 11,
      "outputs": [
        {
          "output_type": "stream",
          "name": "stdout",
          "text": [
            "['caress', 'fli', 'die', 'mule', 'deni', 'die', 'agre', 'own', 'humbl', 'size', 'meet', 'state', 'siez', 'item', 'sensat', 'tradit', 'refer', 'colon', 'plot']\n"
          ]
        }
      ]
    },
    {
      "cell_type": "code",
      "source": [
        "#using WordNet\n",
        "lmtz = WordNetLemmatizer()\n",
        "\n",
        "print(lmtz.lemmatize('painting'))\n",
        "print(lmtz.lemmatize('paints'))\n",
        "print(lmtz.lemmatize('painted'))"
      ],
      "metadata": {
        "colab": {
          "base_uri": "https://localhost:8080/"
        },
        "id": "X-OmBSqxnLog",
        "outputId": "aeeb1ed1-b22c-4801-a0b9-c47d49a17d14"
      },
      "execution_count": 36,
      "outputs": [
        {
          "output_type": "stream",
          "name": "stdout",
          "text": [
            "painting\n",
            "paint\n",
            "painted\n"
          ]
        }
      ]
    },
    {
      "cell_type": "code",
      "source": [
        " #looking up word using WordNet\n",
        " print(wn.synsets('dog'))"
      ],
      "metadata": {
        "colab": {
          "base_uri": "https://localhost:8080/"
        },
        "id": "22-PUfOBelF8",
        "outputId": "dbcb3192-7b05-419d-afb7-f561ebde6ba1"
      },
      "execution_count": 20,
      "outputs": [
        {
          "output_type": "stream",
          "name": "stdout",
          "text": [
            "[Synset('dog.n.01'), Synset('frump.n.01'), Synset('dog.n.03'), Synset('cad.n.01'), Synset('frank.n.02'), Synset('pawl.n.01'), Synset('andiron.n.01'), Synset('chase.v.01')]\n"
          ]
        }
      ]
    },
    {
      "cell_type": "code",
      "source": [
        " #looking up word using WordNet w/ pos argument\n",
        " print(wn.synsets('dog', pos=wn.NOUN))\n",
        " print(wn.synset('dog.n.01').lemma_names())"
      ],
      "metadata": {
        "colab": {
          "base_uri": "https://localhost:8080/"
        },
        "id": "GMUEht1HbhFZ",
        "outputId": "6eb92090-f282-40ab-9bb1-471937c99c72"
      },
      "execution_count": 22,
      "outputs": [
        {
          "output_type": "stream",
          "name": "stdout",
          "text": [
            "[Synset('dog.n.01'), Synset('frump.n.01'), Synset('dog.n.03'), Synset('cad.n.01'), Synset('frank.n.02'), Synset('pawl.n.01'), Synset('andiron.n.01')]\n",
            "['dog', 'domestic_dog', 'Canis_familiaris']\n"
          ]
        }
      ]
    }
  ]
}