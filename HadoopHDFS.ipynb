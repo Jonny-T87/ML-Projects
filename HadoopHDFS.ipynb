{
  "nbformat": 4,
  "nbformat_minor": 0,
  "metadata": {
    "colab": {
      "provenance": [],
      "mount_file_id": "1E3xCaz5pJqUVyhwQEpYO_FeSmZ1HbDMi",
      "authorship_tag": "ABX9TyMQyvCDmrw9Y2uREwHH5sDc",
      "include_colab_link": true
    },
    "kernelspec": {
      "name": "python3",
      "display_name": "Python 3"
    },
    "language_info": {
      "name": "python"
    }
  },
  "cells": [
    {
      "cell_type": "markdown",
      "metadata": {
        "id": "view-in-github",
        "colab_type": "text"
      },
      "source": [
        "<a href=\"https://colab.research.google.com/github/Jonny-T87/ML-Projects/blob/main/HadoopHDFS.ipynb\" target=\"_parent\"><img src=\"https://colab.research.google.com/assets/colab-badge.svg\" alt=\"Open In Colab\"/></a>"
      ]
    },
    {
      "cell_type": "code",
      "execution_count": 1,
      "metadata": {
        "id": "H1bN5viy0lZq"
      },
      "outputs": [],
      "source": [
        "import numpy as np\n",
        "import pandas as pd\n",
        "import matplotlib.pyplot as plt\n",
        "from pathlib import Path\n",
        "import os\n",
        "\n"
      ]
    },
    {
      "cell_type": "code",
      "source": [
        "#downloading hdfs\n",
        "!pip install hdfs"
      ],
      "metadata": {
        "colab": {
          "base_uri": "https://localhost:8080/"
        },
        "id": "8pJhLJdx1mWc",
        "outputId": "0618f8d9-1db1-49ae-e3dd-505b0fda1230"
      },
      "execution_count": 2,
      "outputs": [
        {
          "output_type": "stream",
          "name": "stdout",
          "text": [
            "Collecting hdfs\n",
            "  Downloading hdfs-2.7.3.tar.gz (43 kB)\n",
            "\u001b[?25l     \u001b[90m━━━━━━━━━━━━━━━━━━━━━━━━━━━━━━━━━━━━━━━━\u001b[0m \u001b[32m0.0/43.5 kB\u001b[0m \u001b[31m?\u001b[0m eta \u001b[36m-:--:--\u001b[0m\r\u001b[2K     \u001b[90m━━━━━━━━━━━━━━━━━━━━━━━━━━━━━━━━━━━━━━━━\u001b[0m \u001b[32m43.5/43.5 kB\u001b[0m \u001b[31m1.3 MB/s\u001b[0m eta \u001b[36m0:00:00\u001b[0m\n",
            "\u001b[?25h  Preparing metadata (setup.py) ... \u001b[?25l\u001b[?25hdone\n",
            "Collecting docopt (from hdfs)\n",
            "  Downloading docopt-0.6.2.tar.gz (25 kB)\n",
            "  Preparing metadata (setup.py) ... \u001b[?25l\u001b[?25hdone\n",
            "Requirement already satisfied: requests>=2.7.0 in /usr/local/lib/python3.10/dist-packages (from hdfs) (2.31.0)\n",
            "Requirement already satisfied: six>=1.9.0 in /usr/local/lib/python3.10/dist-packages (from hdfs) (1.16.0)\n",
            "Requirement already satisfied: charset-normalizer<4,>=2 in /usr/local/lib/python3.10/dist-packages (from requests>=2.7.0->hdfs) (3.3.2)\n",
            "Requirement already satisfied: idna<4,>=2.5 in /usr/local/lib/python3.10/dist-packages (from requests>=2.7.0->hdfs) (3.7)\n",
            "Requirement already satisfied: urllib3<3,>=1.21.1 in /usr/local/lib/python3.10/dist-packages (from requests>=2.7.0->hdfs) (2.0.7)\n",
            "Requirement already satisfied: certifi>=2017.4.17 in /usr/local/lib/python3.10/dist-packages (from requests>=2.7.0->hdfs) (2024.7.4)\n",
            "Building wheels for collected packages: hdfs, docopt\n",
            "  Building wheel for hdfs (setup.py) ... \u001b[?25l\u001b[?25hdone\n",
            "  Created wheel for hdfs: filename=hdfs-2.7.3-py3-none-any.whl size=34324 sha256=cfd077226b58b5161767fa376e85269dae61b43fbb376b43d4202783b62d4916\n",
            "  Stored in directory: /root/.cache/pip/wheels/e5/8d/b6/99c1c0a3ac5788c866b0ecd3f48b0134a5910e6ed26011800b\n",
            "  Building wheel for docopt (setup.py) ... \u001b[?25l\u001b[?25hdone\n",
            "  Created wheel for docopt: filename=docopt-0.6.2-py2.py3-none-any.whl size=13706 sha256=ce26319303e6c6386a553d095f7ff04b4fb5451b96a34c9bca0ea527282e831d\n",
            "  Stored in directory: /root/.cache/pip/wheels/fc/ab/d4/5da2067ac95b36618c629a5f93f809425700506f72c9732fac\n",
            "Successfully built hdfs docopt\n",
            "Installing collected packages: docopt, hdfs\n",
            "Successfully installed docopt-0.6.2 hdfs-2.7.3\n"
          ]
        }
      ]
    },
    {
      "cell_type": "code",
      "source": [
        "#installing pyspark & findspark\n",
        "!pip install pyspark\n",
        "!pip install findspark"
      ],
      "metadata": {
        "colab": {
          "base_uri": "https://localhost:8080/"
        },
        "id": "ImlaLLqLiFD3",
        "outputId": "54448346-12b0-4ce9-9634-b321d656d974"
      },
      "execution_count": 3,
      "outputs": [
        {
          "output_type": "stream",
          "name": "stdout",
          "text": [
            "Collecting pyspark\n",
            "  Downloading pyspark-3.5.1.tar.gz (317.0 MB)\n",
            "\u001b[2K     \u001b[90m━━━━━━━━━━━━━━━━━━━━━━━━━━━━━━━━━━━━━━━━\u001b[0m \u001b[32m317.0/317.0 MB\u001b[0m \u001b[31m2.5 MB/s\u001b[0m eta \u001b[36m0:00:00\u001b[0m\n",
            "\u001b[?25h  Preparing metadata (setup.py) ... \u001b[?25l\u001b[?25hdone\n",
            "Requirement already satisfied: py4j==0.10.9.7 in /usr/local/lib/python3.10/dist-packages (from pyspark) (0.10.9.7)\n",
            "Building wheels for collected packages: pyspark\n",
            "  Building wheel for pyspark (setup.py) ... \u001b[?25l\u001b[?25hdone\n",
            "  Created wheel for pyspark: filename=pyspark-3.5.1-py2.py3-none-any.whl size=317488491 sha256=143443095add9b6587ab39016357b753b41cab6ecc5fb2c1e2ac85377122eb27\n",
            "  Stored in directory: /root/.cache/pip/wheels/80/1d/60/2c256ed38dddce2fdd93be545214a63e02fbd8d74fb0b7f3a6\n",
            "Successfully built pyspark\n",
            "Installing collected packages: pyspark\n",
            "Successfully installed pyspark-3.5.1\n",
            "Collecting findspark\n",
            "  Downloading findspark-2.0.1-py2.py3-none-any.whl (4.4 kB)\n",
            "Installing collected packages: findspark\n",
            "Successfully installed findspark-2.0.1\n"
          ]
        }
      ]
    },
    {
      "cell_type": "code",
      "source": [
        "!pip install tables"
      ],
      "metadata": {
        "colab": {
          "base_uri": "https://localhost:8080/"
        },
        "id": "yUxwu5bTlagT",
        "outputId": "dee25c5d-7233-40b9-d87b-7a87d635f9da"
      },
      "execution_count": 4,
      "outputs": [
        {
          "output_type": "stream",
          "name": "stdout",
          "text": [
            "Requirement already satisfied: tables in /usr/local/lib/python3.10/dist-packages (3.8.0)\n",
            "Requirement already satisfied: cython>=0.29.21 in /usr/local/lib/python3.10/dist-packages (from tables) (3.0.10)\n",
            "Requirement already satisfied: numpy>=1.19.0 in /usr/local/lib/python3.10/dist-packages (from tables) (1.25.2)\n",
            "Requirement already satisfied: numexpr>=2.6.2 in /usr/local/lib/python3.10/dist-packages (from tables) (2.10.1)\n",
            "Requirement already satisfied: blosc2~=2.0.0 in /usr/local/lib/python3.10/dist-packages (from tables) (2.0.0)\n",
            "Requirement already satisfied: packaging in /usr/local/lib/python3.10/dist-packages (from tables) (24.1)\n",
            "Requirement already satisfied: py-cpuinfo in /usr/local/lib/python3.10/dist-packages (from tables) (9.0.0)\n",
            "Requirement already satisfied: msgpack in /usr/local/lib/python3.10/dist-packages (from blosc2~=2.0.0->tables) (1.0.8)\n"
          ]
        }
      ]
    },
    {
      "cell_type": "markdown",
      "source": [
        "##Part 1"
      ],
      "metadata": {
        "id": "ih3gmTWVZ6sR"
      }
    },
    {
      "cell_type": "code",
      "source": [
        "!hadoop namenode -format"
      ],
      "metadata": {
        "colab": {
          "base_uri": "https://localhost:8080/"
        },
        "id": "M62X5Y3A1z0C",
        "outputId": "659a850a-6553-44b6-927c-76dd7b756883"
      },
      "execution_count": 5,
      "outputs": [
        {
          "output_type": "stream",
          "name": "stdout",
          "text": [
            "/bin/bash: line 1: hadoop: command not found\n"
          ]
        }
      ]
    },
    {
      "cell_type": "code",
      "source": [
        "!hadoop fs -mkdir /data"
      ],
      "metadata": {
        "colab": {
          "base_uri": "https://localhost:8080/"
        },
        "id": "uf4Zuoha2A5R",
        "outputId": "1ea00d1f-9c37-4035-92b7-c29639946dd7"
      },
      "execution_count": 6,
      "outputs": [
        {
          "output_type": "stream",
          "name": "stdout",
          "text": [
            "/bin/bash: line 1: hadoop: command not found\n"
          ]
        }
      ]
    },
    {
      "cell_type": "code",
      "source": [
        "#starting hdfs\n",
        "!start-dfs.sh"
      ],
      "metadata": {
        "colab": {
          "base_uri": "https://localhost:8080/"
        },
        "id": "LrGh2C0z2H9V",
        "outputId": "0ad1fbd3-78dc-4ba5-f5f7-4382dfa54626"
      },
      "execution_count": 7,
      "outputs": [
        {
          "output_type": "stream",
          "name": "stdout",
          "text": [
            "/bin/bash: line 1: start-dfs.sh: command not found\n"
          ]
        }
      ]
    },
    {
      "cell_type": "code",
      "source": [
        "#creating file\n",
        "!HADOOP_HOME/bin/hadoop fs -ls"
      ],
      "metadata": {
        "colab": {
          "base_uri": "https://localhost:8080/"
        },
        "id": "kdsKdPWS3jD-",
        "outputId": "78e96637-b6b2-4f21-d27f-9ed017b755e3"
      },
      "execution_count": 8,
      "outputs": [
        {
          "output_type": "stream",
          "name": "stdout",
          "text": [
            "/bin/bash: line 1: HADOOP_HOME/bin/hadoop: No such file or directory\n"
          ]
        }
      ]
    },
    {
      "cell_type": "code",
      "source": [
        "#creating input directory\n",
        "!HADOOP_HOME/bin/hadoop fs -mkdir /user/input"
      ],
      "metadata": {
        "colab": {
          "base_uri": "https://localhost:8080/"
        },
        "id": "Szum5I9P3i9z",
        "outputId": "7f2ca4aa-4965-4152-cd33-a4b19c3e0fb3"
      },
      "execution_count": 9,
      "outputs": [
        {
          "output_type": "stream",
          "name": "stdout",
          "text": [
            "/bin/bash: line 1: HADOOP_HOME/bin/hadoop: No such file or directory\n"
          ]
        }
      ]
    },
    {
      "cell_type": "code",
      "source": [
        "#transfering and storing data file from local system to Hadoop\n",
        "!HADOOP_HOME/bin/hadoop fs -put/home/file.txt/user/input"
      ],
      "metadata": {
        "colab": {
          "base_uri": "https://localhost:8080/"
        },
        "id": "J8M7uw9u3i4x",
        "outputId": "403fefff-1550-45f2-ec88-e4e59c0ed59f"
      },
      "execution_count": 10,
      "outputs": [
        {
          "output_type": "stream",
          "name": "stdout",
          "text": [
            "/bin/bash: line 1: HADOOP_HOME/bin/hadoop: No such file or directory\n"
          ]
        }
      ]
    },
    {
      "cell_type": "code",
      "source": [
        "#Verifying file using ls command\n",
        "!HADOOP_HOME/bin/hadoop fs -ls /user/input"
      ],
      "metadata": {
        "colab": {
          "base_uri": "https://localhost:8080/"
        },
        "id": "YFecidPR3iy9",
        "outputId": "b80c0c7f-5061-4100-8a26-78d5c86175cf"
      },
      "execution_count": 11,
      "outputs": [
        {
          "output_type": "stream",
          "name": "stdout",
          "text": [
            "/bin/bash: line 1: HADOOP_HOME/bin/hadoop: No such file or directory\n"
          ]
        }
      ]
    },
    {
      "cell_type": "code",
      "source": [
        "#viewing data from HDFS\n",
        "!HADOOP_HOME/bin/hadoop fs -cat /user/output/outfile"
      ],
      "metadata": {
        "colab": {
          "base_uri": "https://localhost:8080/"
        },
        "id": "HScdZZa03iom",
        "outputId": "120ecdd5-104b-4bd6-d9fa-f7c671a1d041"
      },
      "execution_count": 12,
      "outputs": [
        {
          "output_type": "stream",
          "name": "stdout",
          "text": [
            "/bin/bash: line 1: HADOOP_HOME/bin/hadoop: No such file or directory\n"
          ]
        }
      ]
    },
    {
      "cell_type": "code",
      "source": [
        "#getting file from HDFS to local file system\n",
        "!HADOOP_HOME/bin/hadoop fs -get /user/output/ /home/hadoop_tp/"
      ],
      "metadata": {
        "colab": {
          "base_uri": "https://localhost:8080/"
        },
        "id": "hZdn82WPWMHG",
        "outputId": "a4c8e95c-8808-4ec2-ce9d-518016b77449"
      },
      "execution_count": 13,
      "outputs": [
        {
          "output_type": "stream",
          "name": "stdout",
          "text": [
            "/bin/bash: line 1: HADOOP_HOME/bin/hadoop: No such file or directory\n"
          ]
        }
      ]
    },
    {
      "cell_type": "code",
      "source": [
        "#shuting down HDFS\n",
        "!stop-dfs.sh"
      ],
      "metadata": {
        "colab": {
          "base_uri": "https://localhost:8080/"
        },
        "id": "8ORKBkUdWMAW",
        "outputId": "0c8fd516-a519-47c2-ffe0-4255edb0d6f8"
      },
      "execution_count": 14,
      "outputs": [
        {
          "output_type": "stream",
          "name": "stdout",
          "text": [
            "/bin/bash: line 1: stop-dfs.sh: command not found\n"
          ]
        }
      ]
    },
    {
      "cell_type": "markdown",
      "source": [
        "##Part 2"
      ],
      "metadata": {
        "id": "meAlmOiaZ2x8"
      }
    },
    {
      "cell_type": "code",
      "source": [
        "# Updating apt-get repository.\n",
        "!apt-get update"
      ],
      "metadata": {
        "colab": {
          "base_uri": "https://localhost:8080/"
        },
        "id": "6lCnaRxvqKLq",
        "outputId": "fc4feda7-7138-4db5-e995-957306d2d1bb"
      },
      "execution_count": 15,
      "outputs": [
        {
          "output_type": "stream",
          "name": "stdout",
          "text": [
            "Get:1 https://cloud.r-project.org/bin/linux/ubuntu jammy-cran40/ InRelease [3,626 B]\n",
            "Hit:2 https://developer.download.nvidia.com/compute/cuda/repos/ubuntu2204/x86_64  InRelease\n",
            "Hit:3 http://archive.ubuntu.com/ubuntu jammy InRelease\n",
            "Get:4 http://security.ubuntu.com/ubuntu jammy-security InRelease [129 kB]\n",
            "Get:5 http://archive.ubuntu.com/ubuntu jammy-updates InRelease [128 kB]\n",
            "Ign:6 https://r2u.stat.illinois.edu/ubuntu jammy InRelease\n",
            "Get:7 https://r2u.stat.illinois.edu/ubuntu jammy Release [5,713 B]\n",
            "Hit:8 https://ppa.launchpadcontent.net/deadsnakes/ppa/ubuntu jammy InRelease\n",
            "Get:9 https://r2u.stat.illinois.edu/ubuntu jammy Release.gpg [793 B]\n",
            "Get:10 http://security.ubuntu.com/ubuntu jammy-security/universe amd64 Packages [1,127 kB]\n",
            "Hit:11 http://archive.ubuntu.com/ubuntu jammy-backports InRelease\n",
            "Get:12 https://ppa.launchpadcontent.net/graphics-drivers/ppa/ubuntu jammy InRelease [24.3 kB]\n",
            "Get:13 http://archive.ubuntu.com/ubuntu jammy-updates/main amd64 Packages [2,299 kB]\n",
            "Hit:14 https://ppa.launchpadcontent.net/ubuntugis/ppa/ubuntu jammy InRelease\n",
            "Get:15 https://r2u.stat.illinois.edu/ubuntu jammy/main all Packages [8,187 kB]\n",
            "Get:16 https://ppa.launchpadcontent.net/graphics-drivers/ppa/ubuntu jammy/main amd64 Packages [48.1 kB]\n",
            "Get:17 http://security.ubuntu.com/ubuntu jammy-security/restricted amd64 Packages [2,655 kB]\n",
            "Get:18 http://security.ubuntu.com/ubuntu jammy-security/main amd64 Packages [2,034 kB]\n",
            "Get:19 http://archive.ubuntu.com/ubuntu jammy-updates/universe amd64 Packages [1,411 kB]\n",
            "Get:20 http://archive.ubuntu.com/ubuntu jammy-updates/restricted amd64 Packages [2,728 kB]\n",
            "Get:21 https://r2u.stat.illinois.edu/ubuntu jammy/main amd64 Packages [2,546 kB]\n",
            "Fetched 23.3 MB in 8s (2,852 kB/s)\n",
            "Reading package lists... Done\n",
            "W: Skipping acquire of configured file 'main/source/Sources' as repository 'https://r2u.stat.illinois.edu/ubuntu jammy InRelease' does not seem to provide it (sources.list entry misspelt?)\n"
          ]
        }
      ]
    },
    {
      "cell_type": "code",
      "source": [
        "# Installing Java.\n",
        "!apt-get install openjdk-8-jdk-headless -qq > /dev/null"
      ],
      "metadata": {
        "id": "aKMjXZuxHQ5e"
      },
      "execution_count": 16,
      "outputs": []
    },
    {
      "cell_type": "code",
      "source": [
        "# Downloading Apache Sparks.\n",
        "!wget -q http://archive.apache.org/dist/spark/spark-3.1.1/spark-3.1.1-bin-hadoop3.2.tgz"
      ],
      "metadata": {
        "id": "jzetIcHZHiQL"
      },
      "execution_count": 17,
      "outputs": []
    },
    {
      "cell_type": "code",
      "source": [
        "# Unziping the tgz file.\n",
        "!tar xf spark-3.1.1-bin-hadoop3.2.tgz"
      ],
      "metadata": {
        "id": "yZLe9G9cHvwt"
      },
      "execution_count": 18,
      "outputs": []
    },
    {
      "cell_type": "code",
      "source": [
        "#setting os enviorment for spark and java\n",
        "os.environ[\"JAVA_HOME\"] = \"/usr/lib/jvm/java-8-openjdk-amd64\"\n",
        "os.environ[\"SPARK_HOME\"] = \"/content/spark-3.1.1-bin-hadoop3.2/\"\n",
        "!ls $SPARK_HOME"
      ],
      "metadata": {
        "colab": {
          "base_uri": "https://localhost:8080/"
        },
        "id": "FwuC_fzkH7Qs",
        "outputId": "31150c58-6407-4d4a-eea5-75b8d75b6a71"
      },
      "execution_count": 19,
      "outputs": [
        {
          "output_type": "stream",
          "name": "stdout",
          "text": [
            "bin   data\tjars\t    LICENSE   NOTICE  R\t\t RELEASE  yarn\n",
            "conf  examples\tkubernetes  licenses  python  README.md  sbin\n"
          ]
        }
      ]
    },
    {
      "cell_type": "code",
      "source": [
        "#local findspark\n",
        "import findspark\n",
        "findspark.init()"
      ],
      "metadata": {
        "id": "NHSF-iDhFRs1"
      },
      "execution_count": 20,
      "outputs": []
    },
    {
      "cell_type": "code",
      "source": [
        "#importing pyspark & sparksession\n",
        "import pyspark\n",
        "from pyspark.sql import SparkSession"
      ],
      "metadata": {
        "id": "MbbNkPIOI-oy"
      },
      "execution_count": 30,
      "outputs": []
    },
    {
      "cell_type": "code",
      "source": [
        "#getting pySpark shell\n",
        "spark = SparkSession.builder \\\n",
        "    .master(\"local[*]\") \\\n",
        "    .appName(\"MySparkApp\") \\\n",
        "    .config(\"spark.ui.port\", \"4050\") \\\n",
        "    .getOrCreate()\n",
        "\n",
        "spark"
      ],
      "metadata": {
        "colab": {
          "base_uri": "https://localhost:8080/",
          "height": 219
        },
        "id": "bdgpCHI7hhIx",
        "outputId": "ae816e3c-0450-4ad3-a10e-5ac258de0bc4"
      },
      "execution_count": 22,
      "outputs": [
        {
          "output_type": "execute_result",
          "data": {
            "text/plain": [
              "<pyspark.sql.session.SparkSession at 0x7b09de84db70>"
            ],
            "text/html": [
              "\n",
              "            <div>\n",
              "                <p><b>SparkSession - in-memory</b></p>\n",
              "                \n",
              "        <div>\n",
              "            <p><b>SparkContext</b></p>\n",
              "\n",
              "            <p><a href=\"http://01f15a09328d:4050\">Spark UI</a></p>\n",
              "\n",
              "            <dl>\n",
              "              <dt>Version</dt>\n",
              "                <dd><code>v3.1.1</code></dd>\n",
              "              <dt>Master</dt>\n",
              "                <dd><code>local[*]</code></dd>\n",
              "              <dt>AppName</dt>\n",
              "                <dd><code>MySparkApp</code></dd>\n",
              "            </dl>\n",
              "        </div>\n",
              "        \n",
              "            </div>\n",
              "        "
            ]
          },
          "metadata": {},
          "execution_count": 22
        }
      ]
    },
    {
      "cell_type": "code",
      "source": [
        "#getting existing database from spark api\n",
        "spark.sql(\"show databases\").show()"
      ],
      "metadata": {
        "colab": {
          "base_uri": "https://localhost:8080/"
        },
        "id": "7Kr67YHqaBVV",
        "outputId": "725813ae-12c8-42e2-a024-94460bf7a2f0"
      },
      "execution_count": 23,
      "outputs": [
        {
          "output_type": "stream",
          "name": "stdout",
          "text": [
            "+---------+\n",
            "|namespace|\n",
            "+---------+\n",
            "|  default|\n",
            "+---------+\n",
            "\n"
          ]
        }
      ]
    },
    {
      "cell_type": "markdown",
      "source": [
        "##Pandas to Spark"
      ],
      "metadata": {
        "id": "xX5SK2HvopSS"
      }
    },
    {
      "cell_type": "code",
      "source": [
        "#loading dataset file\n",
        "air_qlty_df = pd.read_hdf('/content/drive/MyDrive/Colab Notebooks/Madrid/madrid.h5', key='28079008')\n",
        "air_qlty_df.head()"
      ],
      "metadata": {
        "colab": {
          "base_uri": "https://localhost:8080/",
          "height": 238
        },
        "id": "u_LeJTNfaBQ1",
        "outputId": "b4abc945-25f2-4b09-a6b8-23ee78010a23"
      },
      "execution_count": 24,
      "outputs": [
        {
          "output_type": "execute_result",
          "data": {
            "text/plain": [
              "                       BEN  CH4    CO        EBE  NMHC  NO        NO_2  \\\n",
              "date                                                                     \n",
              "2001-07-01 01:00:00  30.65  NaN  6.91  42.639999   NaN NaN  381.299988   \n",
              "2001-07-01 02:00:00  29.59  NaN  2.59  50.360001   NaN NaN  209.500000   \n",
              "2001-07-01 03:00:00   4.69  NaN  0.76  25.570000   NaN NaN  116.400002   \n",
              "2001-07-01 04:00:00   4.46  NaN  0.74  22.629999   NaN NaN  116.199997   \n",
              "2001-07-01 05:00:00   2.18  NaN  0.57  11.920000   NaN NaN  100.900002   \n",
              "\n",
              "                             NOx        O_3        PM10  PM25       SO_2  TCH  \\\n",
              "date                                                                            \n",
              "2001-07-01 01:00:00  1017.000000   9.010000  158.899994   NaN  47.509998  NaN   \n",
              "2001-07-01 02:00:00   409.200012  23.820000  104.800003   NaN  20.950001  NaN   \n",
              "2001-07-01 03:00:00   143.399994  31.059999   48.470001   NaN  11.270000  NaN   \n",
              "2001-07-01 04:00:00   149.300003  23.780001   47.500000   NaN  10.100000  NaN   \n",
              "2001-07-01 05:00:00   124.800003  29.530001   49.689999   NaN   7.680000  NaN   \n",
              "\n",
              "                           TOL  \n",
              "date                            \n",
              "2001-07-01 01:00:00  76.050003  \n",
              "2001-07-01 02:00:00  84.900002  \n",
              "2001-07-01 03:00:00  20.980000  \n",
              "2001-07-01 04:00:00  14.770000  \n",
              "2001-07-01 05:00:00   8.970000  "
            ],
            "text/html": [
              "\n",
              "  <div id=\"df-5498509f-4e66-4d89-bf55-066f28d2fb8f\" class=\"colab-df-container\">\n",
              "    <div>\n",
              "<style scoped>\n",
              "    .dataframe tbody tr th:only-of-type {\n",
              "        vertical-align: middle;\n",
              "    }\n",
              "\n",
              "    .dataframe tbody tr th {\n",
              "        vertical-align: top;\n",
              "    }\n",
              "\n",
              "    .dataframe thead th {\n",
              "        text-align: right;\n",
              "    }\n",
              "</style>\n",
              "<table border=\"1\" class=\"dataframe\">\n",
              "  <thead>\n",
              "    <tr style=\"text-align: right;\">\n",
              "      <th></th>\n",
              "      <th>BEN</th>\n",
              "      <th>CH4</th>\n",
              "      <th>CO</th>\n",
              "      <th>EBE</th>\n",
              "      <th>NMHC</th>\n",
              "      <th>NO</th>\n",
              "      <th>NO_2</th>\n",
              "      <th>NOx</th>\n",
              "      <th>O_3</th>\n",
              "      <th>PM10</th>\n",
              "      <th>PM25</th>\n",
              "      <th>SO_2</th>\n",
              "      <th>TCH</th>\n",
              "      <th>TOL</th>\n",
              "    </tr>\n",
              "    <tr>\n",
              "      <th>date</th>\n",
              "      <th></th>\n",
              "      <th></th>\n",
              "      <th></th>\n",
              "      <th></th>\n",
              "      <th></th>\n",
              "      <th></th>\n",
              "      <th></th>\n",
              "      <th></th>\n",
              "      <th></th>\n",
              "      <th></th>\n",
              "      <th></th>\n",
              "      <th></th>\n",
              "      <th></th>\n",
              "      <th></th>\n",
              "    </tr>\n",
              "  </thead>\n",
              "  <tbody>\n",
              "    <tr>\n",
              "      <th>2001-07-01 01:00:00</th>\n",
              "      <td>30.65</td>\n",
              "      <td>NaN</td>\n",
              "      <td>6.91</td>\n",
              "      <td>42.639999</td>\n",
              "      <td>NaN</td>\n",
              "      <td>NaN</td>\n",
              "      <td>381.299988</td>\n",
              "      <td>1017.000000</td>\n",
              "      <td>9.010000</td>\n",
              "      <td>158.899994</td>\n",
              "      <td>NaN</td>\n",
              "      <td>47.509998</td>\n",
              "      <td>NaN</td>\n",
              "      <td>76.050003</td>\n",
              "    </tr>\n",
              "    <tr>\n",
              "      <th>2001-07-01 02:00:00</th>\n",
              "      <td>29.59</td>\n",
              "      <td>NaN</td>\n",
              "      <td>2.59</td>\n",
              "      <td>50.360001</td>\n",
              "      <td>NaN</td>\n",
              "      <td>NaN</td>\n",
              "      <td>209.500000</td>\n",
              "      <td>409.200012</td>\n",
              "      <td>23.820000</td>\n",
              "      <td>104.800003</td>\n",
              "      <td>NaN</td>\n",
              "      <td>20.950001</td>\n",
              "      <td>NaN</td>\n",
              "      <td>84.900002</td>\n",
              "    </tr>\n",
              "    <tr>\n",
              "      <th>2001-07-01 03:00:00</th>\n",
              "      <td>4.69</td>\n",
              "      <td>NaN</td>\n",
              "      <td>0.76</td>\n",
              "      <td>25.570000</td>\n",
              "      <td>NaN</td>\n",
              "      <td>NaN</td>\n",
              "      <td>116.400002</td>\n",
              "      <td>143.399994</td>\n",
              "      <td>31.059999</td>\n",
              "      <td>48.470001</td>\n",
              "      <td>NaN</td>\n",
              "      <td>11.270000</td>\n",
              "      <td>NaN</td>\n",
              "      <td>20.980000</td>\n",
              "    </tr>\n",
              "    <tr>\n",
              "      <th>2001-07-01 04:00:00</th>\n",
              "      <td>4.46</td>\n",
              "      <td>NaN</td>\n",
              "      <td>0.74</td>\n",
              "      <td>22.629999</td>\n",
              "      <td>NaN</td>\n",
              "      <td>NaN</td>\n",
              "      <td>116.199997</td>\n",
              "      <td>149.300003</td>\n",
              "      <td>23.780001</td>\n",
              "      <td>47.500000</td>\n",
              "      <td>NaN</td>\n",
              "      <td>10.100000</td>\n",
              "      <td>NaN</td>\n",
              "      <td>14.770000</td>\n",
              "    </tr>\n",
              "    <tr>\n",
              "      <th>2001-07-01 05:00:00</th>\n",
              "      <td>2.18</td>\n",
              "      <td>NaN</td>\n",
              "      <td>0.57</td>\n",
              "      <td>11.920000</td>\n",
              "      <td>NaN</td>\n",
              "      <td>NaN</td>\n",
              "      <td>100.900002</td>\n",
              "      <td>124.800003</td>\n",
              "      <td>29.530001</td>\n",
              "      <td>49.689999</td>\n",
              "      <td>NaN</td>\n",
              "      <td>7.680000</td>\n",
              "      <td>NaN</td>\n",
              "      <td>8.970000</td>\n",
              "    </tr>\n",
              "  </tbody>\n",
              "</table>\n",
              "</div>\n",
              "    <div class=\"colab-df-buttons\">\n",
              "\n",
              "  <div class=\"colab-df-container\">\n",
              "    <button class=\"colab-df-convert\" onclick=\"convertToInteractive('df-5498509f-4e66-4d89-bf55-066f28d2fb8f')\"\n",
              "            title=\"Convert this dataframe to an interactive table.\"\n",
              "            style=\"display:none;\">\n",
              "\n",
              "  <svg xmlns=\"http://www.w3.org/2000/svg\" height=\"24px\" viewBox=\"0 -960 960 960\">\n",
              "    <path d=\"M120-120v-720h720v720H120Zm60-500h600v-160H180v160Zm220 220h160v-160H400v160Zm0 220h160v-160H400v160ZM180-400h160v-160H180v160Zm440 0h160v-160H620v160ZM180-180h160v-160H180v160Zm440 0h160v-160H620v160Z\"/>\n",
              "  </svg>\n",
              "    </button>\n",
              "\n",
              "  <style>\n",
              "    .colab-df-container {\n",
              "      display:flex;\n",
              "      gap: 12px;\n",
              "    }\n",
              "\n",
              "    .colab-df-convert {\n",
              "      background-color: #E8F0FE;\n",
              "      border: none;\n",
              "      border-radius: 50%;\n",
              "      cursor: pointer;\n",
              "      display: none;\n",
              "      fill: #1967D2;\n",
              "      height: 32px;\n",
              "      padding: 0 0 0 0;\n",
              "      width: 32px;\n",
              "    }\n",
              "\n",
              "    .colab-df-convert:hover {\n",
              "      background-color: #E2EBFA;\n",
              "      box-shadow: 0px 1px 2px rgba(60, 64, 67, 0.3), 0px 1px 3px 1px rgba(60, 64, 67, 0.15);\n",
              "      fill: #174EA6;\n",
              "    }\n",
              "\n",
              "    .colab-df-buttons div {\n",
              "      margin-bottom: 4px;\n",
              "    }\n",
              "\n",
              "    [theme=dark] .colab-df-convert {\n",
              "      background-color: #3B4455;\n",
              "      fill: #D2E3FC;\n",
              "    }\n",
              "\n",
              "    [theme=dark] .colab-df-convert:hover {\n",
              "      background-color: #434B5C;\n",
              "      box-shadow: 0px 1px 3px 1px rgba(0, 0, 0, 0.15);\n",
              "      filter: drop-shadow(0px 1px 2px rgba(0, 0, 0, 0.3));\n",
              "      fill: #FFFFFF;\n",
              "    }\n",
              "  </style>\n",
              "\n",
              "    <script>\n",
              "      const buttonEl =\n",
              "        document.querySelector('#df-5498509f-4e66-4d89-bf55-066f28d2fb8f button.colab-df-convert');\n",
              "      buttonEl.style.display =\n",
              "        google.colab.kernel.accessAllowed ? 'block' : 'none';\n",
              "\n",
              "      async function convertToInteractive(key) {\n",
              "        const element = document.querySelector('#df-5498509f-4e66-4d89-bf55-066f28d2fb8f');\n",
              "        const dataTable =\n",
              "          await google.colab.kernel.invokeFunction('convertToInteractive',\n",
              "                                                    [key], {});\n",
              "        if (!dataTable) return;\n",
              "\n",
              "        const docLinkHtml = 'Like what you see? Visit the ' +\n",
              "          '<a target=\"_blank\" href=https://colab.research.google.com/notebooks/data_table.ipynb>data table notebook</a>'\n",
              "          + ' to learn more about interactive tables.';\n",
              "        element.innerHTML = '';\n",
              "        dataTable['output_type'] = 'display_data';\n",
              "        await google.colab.output.renderOutput(dataTable, element);\n",
              "        const docLink = document.createElement('div');\n",
              "        docLink.innerHTML = docLinkHtml;\n",
              "        element.appendChild(docLink);\n",
              "      }\n",
              "    </script>\n",
              "  </div>\n",
              "\n",
              "\n",
              "<div id=\"df-76191a76-0203-4c54-8e03-ee62433aaca3\">\n",
              "  <button class=\"colab-df-quickchart\" onclick=\"quickchart('df-76191a76-0203-4c54-8e03-ee62433aaca3')\"\n",
              "            title=\"Suggest charts\"\n",
              "            style=\"display:none;\">\n",
              "\n",
              "<svg xmlns=\"http://www.w3.org/2000/svg\" height=\"24px\"viewBox=\"0 0 24 24\"\n",
              "     width=\"24px\">\n",
              "    <g>\n",
              "        <path d=\"M19 3H5c-1.1 0-2 .9-2 2v14c0 1.1.9 2 2 2h14c1.1 0 2-.9 2-2V5c0-1.1-.9-2-2-2zM9 17H7v-7h2v7zm4 0h-2V7h2v10zm4 0h-2v-4h2v4z\"/>\n",
              "    </g>\n",
              "</svg>\n",
              "  </button>\n",
              "\n",
              "<style>\n",
              "  .colab-df-quickchart {\n",
              "      --bg-color: #E8F0FE;\n",
              "      --fill-color: #1967D2;\n",
              "      --hover-bg-color: #E2EBFA;\n",
              "      --hover-fill-color: #174EA6;\n",
              "      --disabled-fill-color: #AAA;\n",
              "      --disabled-bg-color: #DDD;\n",
              "  }\n",
              "\n",
              "  [theme=dark] .colab-df-quickchart {\n",
              "      --bg-color: #3B4455;\n",
              "      --fill-color: #D2E3FC;\n",
              "      --hover-bg-color: #434B5C;\n",
              "      --hover-fill-color: #FFFFFF;\n",
              "      --disabled-bg-color: #3B4455;\n",
              "      --disabled-fill-color: #666;\n",
              "  }\n",
              "\n",
              "  .colab-df-quickchart {\n",
              "    background-color: var(--bg-color);\n",
              "    border: none;\n",
              "    border-radius: 50%;\n",
              "    cursor: pointer;\n",
              "    display: none;\n",
              "    fill: var(--fill-color);\n",
              "    height: 32px;\n",
              "    padding: 0;\n",
              "    width: 32px;\n",
              "  }\n",
              "\n",
              "  .colab-df-quickchart:hover {\n",
              "    background-color: var(--hover-bg-color);\n",
              "    box-shadow: 0 1px 2px rgba(60, 64, 67, 0.3), 0 1px 3px 1px rgba(60, 64, 67, 0.15);\n",
              "    fill: var(--button-hover-fill-color);\n",
              "  }\n",
              "\n",
              "  .colab-df-quickchart-complete:disabled,\n",
              "  .colab-df-quickchart-complete:disabled:hover {\n",
              "    background-color: var(--disabled-bg-color);\n",
              "    fill: var(--disabled-fill-color);\n",
              "    box-shadow: none;\n",
              "  }\n",
              "\n",
              "  .colab-df-spinner {\n",
              "    border: 2px solid var(--fill-color);\n",
              "    border-color: transparent;\n",
              "    border-bottom-color: var(--fill-color);\n",
              "    animation:\n",
              "      spin 1s steps(1) infinite;\n",
              "  }\n",
              "\n",
              "  @keyframes spin {\n",
              "    0% {\n",
              "      border-color: transparent;\n",
              "      border-bottom-color: var(--fill-color);\n",
              "      border-left-color: var(--fill-color);\n",
              "    }\n",
              "    20% {\n",
              "      border-color: transparent;\n",
              "      border-left-color: var(--fill-color);\n",
              "      border-top-color: var(--fill-color);\n",
              "    }\n",
              "    30% {\n",
              "      border-color: transparent;\n",
              "      border-left-color: var(--fill-color);\n",
              "      border-top-color: var(--fill-color);\n",
              "      border-right-color: var(--fill-color);\n",
              "    }\n",
              "    40% {\n",
              "      border-color: transparent;\n",
              "      border-right-color: var(--fill-color);\n",
              "      border-top-color: var(--fill-color);\n",
              "    }\n",
              "    60% {\n",
              "      border-color: transparent;\n",
              "      border-right-color: var(--fill-color);\n",
              "    }\n",
              "    80% {\n",
              "      border-color: transparent;\n",
              "      border-right-color: var(--fill-color);\n",
              "      border-bottom-color: var(--fill-color);\n",
              "    }\n",
              "    90% {\n",
              "      border-color: transparent;\n",
              "      border-bottom-color: var(--fill-color);\n",
              "    }\n",
              "  }\n",
              "</style>\n",
              "\n",
              "  <script>\n",
              "    async function quickchart(key) {\n",
              "      const quickchartButtonEl =\n",
              "        document.querySelector('#' + key + ' button');\n",
              "      quickchartButtonEl.disabled = true;  // To prevent multiple clicks.\n",
              "      quickchartButtonEl.classList.add('colab-df-spinner');\n",
              "      try {\n",
              "        const charts = await google.colab.kernel.invokeFunction(\n",
              "            'suggestCharts', [key], {});\n",
              "      } catch (error) {\n",
              "        console.error('Error during call to suggestCharts:', error);\n",
              "      }\n",
              "      quickchartButtonEl.classList.remove('colab-df-spinner');\n",
              "      quickchartButtonEl.classList.add('colab-df-quickchart-complete');\n",
              "    }\n",
              "    (() => {\n",
              "      let quickchartButtonEl =\n",
              "        document.querySelector('#df-76191a76-0203-4c54-8e03-ee62433aaca3 button');\n",
              "      quickchartButtonEl.style.display =\n",
              "        google.colab.kernel.accessAllowed ? 'block' : 'none';\n",
              "    })();\n",
              "  </script>\n",
              "</div>\n",
              "\n",
              "    </div>\n",
              "  </div>\n"
            ],
            "application/vnd.google.colaboratory.intrinsic+json": {
              "type": "dataframe",
              "variable_name": "air_qlty_df"
            }
          },
          "metadata": {},
          "execution_count": 24
        }
      ]
    },
    {
      "cell_type": "code",
      "source": [
        "#resetting datetime index to not lose information when loading into Spark\n",
        "air_qlty_df = air_qlty_df.reset_index()\n",
        "air_qlty_df.head()"
      ],
      "metadata": {
        "colab": {
          "base_uri": "https://localhost:8080/",
          "height": 206
        },
        "id": "SY6eRvvBaBM6",
        "outputId": "33213259-89a5-4a0c-ca82-9a7770dd541e"
      },
      "execution_count": 25,
      "outputs": [
        {
          "output_type": "execute_result",
          "data": {
            "text/plain": [
              "                 date    BEN  CH4    CO        EBE  NMHC  NO        NO_2  \\\n",
              "0 2001-07-01 01:00:00  30.65  NaN  6.91  42.639999   NaN NaN  381.299988   \n",
              "1 2001-07-01 02:00:00  29.59  NaN  2.59  50.360001   NaN NaN  209.500000   \n",
              "2 2001-07-01 03:00:00   4.69  NaN  0.76  25.570000   NaN NaN  116.400002   \n",
              "3 2001-07-01 04:00:00   4.46  NaN  0.74  22.629999   NaN NaN  116.199997   \n",
              "4 2001-07-01 05:00:00   2.18  NaN  0.57  11.920000   NaN NaN  100.900002   \n",
              "\n",
              "           NOx        O_3        PM10  PM25       SO_2  TCH        TOL  \n",
              "0  1017.000000   9.010000  158.899994   NaN  47.509998  NaN  76.050003  \n",
              "1   409.200012  23.820000  104.800003   NaN  20.950001  NaN  84.900002  \n",
              "2   143.399994  31.059999   48.470001   NaN  11.270000  NaN  20.980000  \n",
              "3   149.300003  23.780001   47.500000   NaN  10.100000  NaN  14.770000  \n",
              "4   124.800003  29.530001   49.689999   NaN   7.680000  NaN   8.970000  "
            ],
            "text/html": [
              "\n",
              "  <div id=\"df-ce812451-7232-4cf9-b213-2551ec799a71\" class=\"colab-df-container\">\n",
              "    <div>\n",
              "<style scoped>\n",
              "    .dataframe tbody tr th:only-of-type {\n",
              "        vertical-align: middle;\n",
              "    }\n",
              "\n",
              "    .dataframe tbody tr th {\n",
              "        vertical-align: top;\n",
              "    }\n",
              "\n",
              "    .dataframe thead th {\n",
              "        text-align: right;\n",
              "    }\n",
              "</style>\n",
              "<table border=\"1\" class=\"dataframe\">\n",
              "  <thead>\n",
              "    <tr style=\"text-align: right;\">\n",
              "      <th></th>\n",
              "      <th>date</th>\n",
              "      <th>BEN</th>\n",
              "      <th>CH4</th>\n",
              "      <th>CO</th>\n",
              "      <th>EBE</th>\n",
              "      <th>NMHC</th>\n",
              "      <th>NO</th>\n",
              "      <th>NO_2</th>\n",
              "      <th>NOx</th>\n",
              "      <th>O_3</th>\n",
              "      <th>PM10</th>\n",
              "      <th>PM25</th>\n",
              "      <th>SO_2</th>\n",
              "      <th>TCH</th>\n",
              "      <th>TOL</th>\n",
              "    </tr>\n",
              "  </thead>\n",
              "  <tbody>\n",
              "    <tr>\n",
              "      <th>0</th>\n",
              "      <td>2001-07-01 01:00:00</td>\n",
              "      <td>30.65</td>\n",
              "      <td>NaN</td>\n",
              "      <td>6.91</td>\n",
              "      <td>42.639999</td>\n",
              "      <td>NaN</td>\n",
              "      <td>NaN</td>\n",
              "      <td>381.299988</td>\n",
              "      <td>1017.000000</td>\n",
              "      <td>9.010000</td>\n",
              "      <td>158.899994</td>\n",
              "      <td>NaN</td>\n",
              "      <td>47.509998</td>\n",
              "      <td>NaN</td>\n",
              "      <td>76.050003</td>\n",
              "    </tr>\n",
              "    <tr>\n",
              "      <th>1</th>\n",
              "      <td>2001-07-01 02:00:00</td>\n",
              "      <td>29.59</td>\n",
              "      <td>NaN</td>\n",
              "      <td>2.59</td>\n",
              "      <td>50.360001</td>\n",
              "      <td>NaN</td>\n",
              "      <td>NaN</td>\n",
              "      <td>209.500000</td>\n",
              "      <td>409.200012</td>\n",
              "      <td>23.820000</td>\n",
              "      <td>104.800003</td>\n",
              "      <td>NaN</td>\n",
              "      <td>20.950001</td>\n",
              "      <td>NaN</td>\n",
              "      <td>84.900002</td>\n",
              "    </tr>\n",
              "    <tr>\n",
              "      <th>2</th>\n",
              "      <td>2001-07-01 03:00:00</td>\n",
              "      <td>4.69</td>\n",
              "      <td>NaN</td>\n",
              "      <td>0.76</td>\n",
              "      <td>25.570000</td>\n",
              "      <td>NaN</td>\n",
              "      <td>NaN</td>\n",
              "      <td>116.400002</td>\n",
              "      <td>143.399994</td>\n",
              "      <td>31.059999</td>\n",
              "      <td>48.470001</td>\n",
              "      <td>NaN</td>\n",
              "      <td>11.270000</td>\n",
              "      <td>NaN</td>\n",
              "      <td>20.980000</td>\n",
              "    </tr>\n",
              "    <tr>\n",
              "      <th>3</th>\n",
              "      <td>2001-07-01 04:00:00</td>\n",
              "      <td>4.46</td>\n",
              "      <td>NaN</td>\n",
              "      <td>0.74</td>\n",
              "      <td>22.629999</td>\n",
              "      <td>NaN</td>\n",
              "      <td>NaN</td>\n",
              "      <td>116.199997</td>\n",
              "      <td>149.300003</td>\n",
              "      <td>23.780001</td>\n",
              "      <td>47.500000</td>\n",
              "      <td>NaN</td>\n",
              "      <td>10.100000</td>\n",
              "      <td>NaN</td>\n",
              "      <td>14.770000</td>\n",
              "    </tr>\n",
              "    <tr>\n",
              "      <th>4</th>\n",
              "      <td>2001-07-01 05:00:00</td>\n",
              "      <td>2.18</td>\n",
              "      <td>NaN</td>\n",
              "      <td>0.57</td>\n",
              "      <td>11.920000</td>\n",
              "      <td>NaN</td>\n",
              "      <td>NaN</td>\n",
              "      <td>100.900002</td>\n",
              "      <td>124.800003</td>\n",
              "      <td>29.530001</td>\n",
              "      <td>49.689999</td>\n",
              "      <td>NaN</td>\n",
              "      <td>7.680000</td>\n",
              "      <td>NaN</td>\n",
              "      <td>8.970000</td>\n",
              "    </tr>\n",
              "  </tbody>\n",
              "</table>\n",
              "</div>\n",
              "    <div class=\"colab-df-buttons\">\n",
              "\n",
              "  <div class=\"colab-df-container\">\n",
              "    <button class=\"colab-df-convert\" onclick=\"convertToInteractive('df-ce812451-7232-4cf9-b213-2551ec799a71')\"\n",
              "            title=\"Convert this dataframe to an interactive table.\"\n",
              "            style=\"display:none;\">\n",
              "\n",
              "  <svg xmlns=\"http://www.w3.org/2000/svg\" height=\"24px\" viewBox=\"0 -960 960 960\">\n",
              "    <path d=\"M120-120v-720h720v720H120Zm60-500h600v-160H180v160Zm220 220h160v-160H400v160Zm0 220h160v-160H400v160ZM180-400h160v-160H180v160Zm440 0h160v-160H620v160ZM180-180h160v-160H180v160Zm440 0h160v-160H620v160Z\"/>\n",
              "  </svg>\n",
              "    </button>\n",
              "\n",
              "  <style>\n",
              "    .colab-df-container {\n",
              "      display:flex;\n",
              "      gap: 12px;\n",
              "    }\n",
              "\n",
              "    .colab-df-convert {\n",
              "      background-color: #E8F0FE;\n",
              "      border: none;\n",
              "      border-radius: 50%;\n",
              "      cursor: pointer;\n",
              "      display: none;\n",
              "      fill: #1967D2;\n",
              "      height: 32px;\n",
              "      padding: 0 0 0 0;\n",
              "      width: 32px;\n",
              "    }\n",
              "\n",
              "    .colab-df-convert:hover {\n",
              "      background-color: #E2EBFA;\n",
              "      box-shadow: 0px 1px 2px rgba(60, 64, 67, 0.3), 0px 1px 3px 1px rgba(60, 64, 67, 0.15);\n",
              "      fill: #174EA6;\n",
              "    }\n",
              "\n",
              "    .colab-df-buttons div {\n",
              "      margin-bottom: 4px;\n",
              "    }\n",
              "\n",
              "    [theme=dark] .colab-df-convert {\n",
              "      background-color: #3B4455;\n",
              "      fill: #D2E3FC;\n",
              "    }\n",
              "\n",
              "    [theme=dark] .colab-df-convert:hover {\n",
              "      background-color: #434B5C;\n",
              "      box-shadow: 0px 1px 3px 1px rgba(0, 0, 0, 0.15);\n",
              "      filter: drop-shadow(0px 1px 2px rgba(0, 0, 0, 0.3));\n",
              "      fill: #FFFFFF;\n",
              "    }\n",
              "  </style>\n",
              "\n",
              "    <script>\n",
              "      const buttonEl =\n",
              "        document.querySelector('#df-ce812451-7232-4cf9-b213-2551ec799a71 button.colab-df-convert');\n",
              "      buttonEl.style.display =\n",
              "        google.colab.kernel.accessAllowed ? 'block' : 'none';\n",
              "\n",
              "      async function convertToInteractive(key) {\n",
              "        const element = document.querySelector('#df-ce812451-7232-4cf9-b213-2551ec799a71');\n",
              "        const dataTable =\n",
              "          await google.colab.kernel.invokeFunction('convertToInteractive',\n",
              "                                                    [key], {});\n",
              "        if (!dataTable) return;\n",
              "\n",
              "        const docLinkHtml = 'Like what you see? Visit the ' +\n",
              "          '<a target=\"_blank\" href=https://colab.research.google.com/notebooks/data_table.ipynb>data table notebook</a>'\n",
              "          + ' to learn more about interactive tables.';\n",
              "        element.innerHTML = '';\n",
              "        dataTable['output_type'] = 'display_data';\n",
              "        await google.colab.output.renderOutput(dataTable, element);\n",
              "        const docLink = document.createElement('div');\n",
              "        docLink.innerHTML = docLinkHtml;\n",
              "        element.appendChild(docLink);\n",
              "      }\n",
              "    </script>\n",
              "  </div>\n",
              "\n",
              "\n",
              "<div id=\"df-99a85f9d-8b1b-46a1-a0e7-1d77823f81cc\">\n",
              "  <button class=\"colab-df-quickchart\" onclick=\"quickchart('df-99a85f9d-8b1b-46a1-a0e7-1d77823f81cc')\"\n",
              "            title=\"Suggest charts\"\n",
              "            style=\"display:none;\">\n",
              "\n",
              "<svg xmlns=\"http://www.w3.org/2000/svg\" height=\"24px\"viewBox=\"0 0 24 24\"\n",
              "     width=\"24px\">\n",
              "    <g>\n",
              "        <path d=\"M19 3H5c-1.1 0-2 .9-2 2v14c0 1.1.9 2 2 2h14c1.1 0 2-.9 2-2V5c0-1.1-.9-2-2-2zM9 17H7v-7h2v7zm4 0h-2V7h2v10zm4 0h-2v-4h2v4z\"/>\n",
              "    </g>\n",
              "</svg>\n",
              "  </button>\n",
              "\n",
              "<style>\n",
              "  .colab-df-quickchart {\n",
              "      --bg-color: #E8F0FE;\n",
              "      --fill-color: #1967D2;\n",
              "      --hover-bg-color: #E2EBFA;\n",
              "      --hover-fill-color: #174EA6;\n",
              "      --disabled-fill-color: #AAA;\n",
              "      --disabled-bg-color: #DDD;\n",
              "  }\n",
              "\n",
              "  [theme=dark] .colab-df-quickchart {\n",
              "      --bg-color: #3B4455;\n",
              "      --fill-color: #D2E3FC;\n",
              "      --hover-bg-color: #434B5C;\n",
              "      --hover-fill-color: #FFFFFF;\n",
              "      --disabled-bg-color: #3B4455;\n",
              "      --disabled-fill-color: #666;\n",
              "  }\n",
              "\n",
              "  .colab-df-quickchart {\n",
              "    background-color: var(--bg-color);\n",
              "    border: none;\n",
              "    border-radius: 50%;\n",
              "    cursor: pointer;\n",
              "    display: none;\n",
              "    fill: var(--fill-color);\n",
              "    height: 32px;\n",
              "    padding: 0;\n",
              "    width: 32px;\n",
              "  }\n",
              "\n",
              "  .colab-df-quickchart:hover {\n",
              "    background-color: var(--hover-bg-color);\n",
              "    box-shadow: 0 1px 2px rgba(60, 64, 67, 0.3), 0 1px 3px 1px rgba(60, 64, 67, 0.15);\n",
              "    fill: var(--button-hover-fill-color);\n",
              "  }\n",
              "\n",
              "  .colab-df-quickchart-complete:disabled,\n",
              "  .colab-df-quickchart-complete:disabled:hover {\n",
              "    background-color: var(--disabled-bg-color);\n",
              "    fill: var(--disabled-fill-color);\n",
              "    box-shadow: none;\n",
              "  }\n",
              "\n",
              "  .colab-df-spinner {\n",
              "    border: 2px solid var(--fill-color);\n",
              "    border-color: transparent;\n",
              "    border-bottom-color: var(--fill-color);\n",
              "    animation:\n",
              "      spin 1s steps(1) infinite;\n",
              "  }\n",
              "\n",
              "  @keyframes spin {\n",
              "    0% {\n",
              "      border-color: transparent;\n",
              "      border-bottom-color: var(--fill-color);\n",
              "      border-left-color: var(--fill-color);\n",
              "    }\n",
              "    20% {\n",
              "      border-color: transparent;\n",
              "      border-left-color: var(--fill-color);\n",
              "      border-top-color: var(--fill-color);\n",
              "    }\n",
              "    30% {\n",
              "      border-color: transparent;\n",
              "      border-left-color: var(--fill-color);\n",
              "      border-top-color: var(--fill-color);\n",
              "      border-right-color: var(--fill-color);\n",
              "    }\n",
              "    40% {\n",
              "      border-color: transparent;\n",
              "      border-right-color: var(--fill-color);\n",
              "      border-top-color: var(--fill-color);\n",
              "    }\n",
              "    60% {\n",
              "      border-color: transparent;\n",
              "      border-right-color: var(--fill-color);\n",
              "    }\n",
              "    80% {\n",
              "      border-color: transparent;\n",
              "      border-right-color: var(--fill-color);\n",
              "      border-bottom-color: var(--fill-color);\n",
              "    }\n",
              "    90% {\n",
              "      border-color: transparent;\n",
              "      border-bottom-color: var(--fill-color);\n",
              "    }\n",
              "  }\n",
              "</style>\n",
              "\n",
              "  <script>\n",
              "    async function quickchart(key) {\n",
              "      const quickchartButtonEl =\n",
              "        document.querySelector('#' + key + ' button');\n",
              "      quickchartButtonEl.disabled = true;  // To prevent multiple clicks.\n",
              "      quickchartButtonEl.classList.add('colab-df-spinner');\n",
              "      try {\n",
              "        const charts = await google.colab.kernel.invokeFunction(\n",
              "            'suggestCharts', [key], {});\n",
              "      } catch (error) {\n",
              "        console.error('Error during call to suggestCharts:', error);\n",
              "      }\n",
              "      quickchartButtonEl.classList.remove('colab-df-spinner');\n",
              "      quickchartButtonEl.classList.add('colab-df-quickchart-complete');\n",
              "    }\n",
              "    (() => {\n",
              "      let quickchartButtonEl =\n",
              "        document.querySelector('#df-99a85f9d-8b1b-46a1-a0e7-1d77823f81cc button');\n",
              "      quickchartButtonEl.style.display =\n",
              "        google.colab.kernel.accessAllowed ? 'block' : 'none';\n",
              "    })();\n",
              "  </script>\n",
              "</div>\n",
              "\n",
              "    </div>\n",
              "  </div>\n"
            ],
            "application/vnd.google.colaboratory.intrinsic+json": {
              "type": "dataframe",
              "variable_name": "air_qlty_df"
            }
          },
          "metadata": {},
          "execution_count": 25
        }
      ]
    },
    {
      "cell_type": "code",
      "source": [
        "#changing date and time from string to date\n",
        "air_qlty_df['date'] = air_qlty_df['date'].dt.strftime('%Y-%m-%d %H:%M:%S')\n",
        "air_qlty_df.head()"
      ],
      "metadata": {
        "colab": {
          "base_uri": "https://localhost:8080/",
          "height": 206
        },
        "id": "wTy8YMjBkiba",
        "outputId": "68237d35-af16-49dc-9a97-321e5bc359f5"
      },
      "execution_count": 27,
      "outputs": [
        {
          "output_type": "execute_result",
          "data": {
            "text/plain": [
              "                  date    BEN  CH4    CO        EBE  NMHC  NO        NO_2  \\\n",
              "0  2001-07-01 01:00:00  30.65  NaN  6.91  42.639999   NaN NaN  381.299988   \n",
              "1  2001-07-01 02:00:00  29.59  NaN  2.59  50.360001   NaN NaN  209.500000   \n",
              "2  2001-07-01 03:00:00   4.69  NaN  0.76  25.570000   NaN NaN  116.400002   \n",
              "3  2001-07-01 04:00:00   4.46  NaN  0.74  22.629999   NaN NaN  116.199997   \n",
              "4  2001-07-01 05:00:00   2.18  NaN  0.57  11.920000   NaN NaN  100.900002   \n",
              "\n",
              "           NOx        O_3        PM10  PM25       SO_2  TCH        TOL  \n",
              "0  1017.000000   9.010000  158.899994   NaN  47.509998  NaN  76.050003  \n",
              "1   409.200012  23.820000  104.800003   NaN  20.950001  NaN  84.900002  \n",
              "2   143.399994  31.059999   48.470001   NaN  11.270000  NaN  20.980000  \n",
              "3   149.300003  23.780001   47.500000   NaN  10.100000  NaN  14.770000  \n",
              "4   124.800003  29.530001   49.689999   NaN   7.680000  NaN   8.970000  "
            ],
            "text/html": [
              "\n",
              "  <div id=\"df-19b99fad-de83-44a3-9e87-db3e78a679a6\" class=\"colab-df-container\">\n",
              "    <div>\n",
              "<style scoped>\n",
              "    .dataframe tbody tr th:only-of-type {\n",
              "        vertical-align: middle;\n",
              "    }\n",
              "\n",
              "    .dataframe tbody tr th {\n",
              "        vertical-align: top;\n",
              "    }\n",
              "\n",
              "    .dataframe thead th {\n",
              "        text-align: right;\n",
              "    }\n",
              "</style>\n",
              "<table border=\"1\" class=\"dataframe\">\n",
              "  <thead>\n",
              "    <tr style=\"text-align: right;\">\n",
              "      <th></th>\n",
              "      <th>date</th>\n",
              "      <th>BEN</th>\n",
              "      <th>CH4</th>\n",
              "      <th>CO</th>\n",
              "      <th>EBE</th>\n",
              "      <th>NMHC</th>\n",
              "      <th>NO</th>\n",
              "      <th>NO_2</th>\n",
              "      <th>NOx</th>\n",
              "      <th>O_3</th>\n",
              "      <th>PM10</th>\n",
              "      <th>PM25</th>\n",
              "      <th>SO_2</th>\n",
              "      <th>TCH</th>\n",
              "      <th>TOL</th>\n",
              "    </tr>\n",
              "  </thead>\n",
              "  <tbody>\n",
              "    <tr>\n",
              "      <th>0</th>\n",
              "      <td>2001-07-01 01:00:00</td>\n",
              "      <td>30.65</td>\n",
              "      <td>NaN</td>\n",
              "      <td>6.91</td>\n",
              "      <td>42.639999</td>\n",
              "      <td>NaN</td>\n",
              "      <td>NaN</td>\n",
              "      <td>381.299988</td>\n",
              "      <td>1017.000000</td>\n",
              "      <td>9.010000</td>\n",
              "      <td>158.899994</td>\n",
              "      <td>NaN</td>\n",
              "      <td>47.509998</td>\n",
              "      <td>NaN</td>\n",
              "      <td>76.050003</td>\n",
              "    </tr>\n",
              "    <tr>\n",
              "      <th>1</th>\n",
              "      <td>2001-07-01 02:00:00</td>\n",
              "      <td>29.59</td>\n",
              "      <td>NaN</td>\n",
              "      <td>2.59</td>\n",
              "      <td>50.360001</td>\n",
              "      <td>NaN</td>\n",
              "      <td>NaN</td>\n",
              "      <td>209.500000</td>\n",
              "      <td>409.200012</td>\n",
              "      <td>23.820000</td>\n",
              "      <td>104.800003</td>\n",
              "      <td>NaN</td>\n",
              "      <td>20.950001</td>\n",
              "      <td>NaN</td>\n",
              "      <td>84.900002</td>\n",
              "    </tr>\n",
              "    <tr>\n",
              "      <th>2</th>\n",
              "      <td>2001-07-01 03:00:00</td>\n",
              "      <td>4.69</td>\n",
              "      <td>NaN</td>\n",
              "      <td>0.76</td>\n",
              "      <td>25.570000</td>\n",
              "      <td>NaN</td>\n",
              "      <td>NaN</td>\n",
              "      <td>116.400002</td>\n",
              "      <td>143.399994</td>\n",
              "      <td>31.059999</td>\n",
              "      <td>48.470001</td>\n",
              "      <td>NaN</td>\n",
              "      <td>11.270000</td>\n",
              "      <td>NaN</td>\n",
              "      <td>20.980000</td>\n",
              "    </tr>\n",
              "    <tr>\n",
              "      <th>3</th>\n",
              "      <td>2001-07-01 04:00:00</td>\n",
              "      <td>4.46</td>\n",
              "      <td>NaN</td>\n",
              "      <td>0.74</td>\n",
              "      <td>22.629999</td>\n",
              "      <td>NaN</td>\n",
              "      <td>NaN</td>\n",
              "      <td>116.199997</td>\n",
              "      <td>149.300003</td>\n",
              "      <td>23.780001</td>\n",
              "      <td>47.500000</td>\n",
              "      <td>NaN</td>\n",
              "      <td>10.100000</td>\n",
              "      <td>NaN</td>\n",
              "      <td>14.770000</td>\n",
              "    </tr>\n",
              "    <tr>\n",
              "      <th>4</th>\n",
              "      <td>2001-07-01 05:00:00</td>\n",
              "      <td>2.18</td>\n",
              "      <td>NaN</td>\n",
              "      <td>0.57</td>\n",
              "      <td>11.920000</td>\n",
              "      <td>NaN</td>\n",
              "      <td>NaN</td>\n",
              "      <td>100.900002</td>\n",
              "      <td>124.800003</td>\n",
              "      <td>29.530001</td>\n",
              "      <td>49.689999</td>\n",
              "      <td>NaN</td>\n",
              "      <td>7.680000</td>\n",
              "      <td>NaN</td>\n",
              "      <td>8.970000</td>\n",
              "    </tr>\n",
              "  </tbody>\n",
              "</table>\n",
              "</div>\n",
              "    <div class=\"colab-df-buttons\">\n",
              "\n",
              "  <div class=\"colab-df-container\">\n",
              "    <button class=\"colab-df-convert\" onclick=\"convertToInteractive('df-19b99fad-de83-44a3-9e87-db3e78a679a6')\"\n",
              "            title=\"Convert this dataframe to an interactive table.\"\n",
              "            style=\"display:none;\">\n",
              "\n",
              "  <svg xmlns=\"http://www.w3.org/2000/svg\" height=\"24px\" viewBox=\"0 -960 960 960\">\n",
              "    <path d=\"M120-120v-720h720v720H120Zm60-500h600v-160H180v160Zm220 220h160v-160H400v160Zm0 220h160v-160H400v160ZM180-400h160v-160H180v160Zm440 0h160v-160H620v160ZM180-180h160v-160H180v160Zm440 0h160v-160H620v160Z\"/>\n",
              "  </svg>\n",
              "    </button>\n",
              "\n",
              "  <style>\n",
              "    .colab-df-container {\n",
              "      display:flex;\n",
              "      gap: 12px;\n",
              "    }\n",
              "\n",
              "    .colab-df-convert {\n",
              "      background-color: #E8F0FE;\n",
              "      border: none;\n",
              "      border-radius: 50%;\n",
              "      cursor: pointer;\n",
              "      display: none;\n",
              "      fill: #1967D2;\n",
              "      height: 32px;\n",
              "      padding: 0 0 0 0;\n",
              "      width: 32px;\n",
              "    }\n",
              "\n",
              "    .colab-df-convert:hover {\n",
              "      background-color: #E2EBFA;\n",
              "      box-shadow: 0px 1px 2px rgba(60, 64, 67, 0.3), 0px 1px 3px 1px rgba(60, 64, 67, 0.15);\n",
              "      fill: #174EA6;\n",
              "    }\n",
              "\n",
              "    .colab-df-buttons div {\n",
              "      margin-bottom: 4px;\n",
              "    }\n",
              "\n",
              "    [theme=dark] .colab-df-convert {\n",
              "      background-color: #3B4455;\n",
              "      fill: #D2E3FC;\n",
              "    }\n",
              "\n",
              "    [theme=dark] .colab-df-convert:hover {\n",
              "      background-color: #434B5C;\n",
              "      box-shadow: 0px 1px 3px 1px rgba(0, 0, 0, 0.15);\n",
              "      filter: drop-shadow(0px 1px 2px rgba(0, 0, 0, 0.3));\n",
              "      fill: #FFFFFF;\n",
              "    }\n",
              "  </style>\n",
              "\n",
              "    <script>\n",
              "      const buttonEl =\n",
              "        document.querySelector('#df-19b99fad-de83-44a3-9e87-db3e78a679a6 button.colab-df-convert');\n",
              "      buttonEl.style.display =\n",
              "        google.colab.kernel.accessAllowed ? 'block' : 'none';\n",
              "\n",
              "      async function convertToInteractive(key) {\n",
              "        const element = document.querySelector('#df-19b99fad-de83-44a3-9e87-db3e78a679a6');\n",
              "        const dataTable =\n",
              "          await google.colab.kernel.invokeFunction('convertToInteractive',\n",
              "                                                    [key], {});\n",
              "        if (!dataTable) return;\n",
              "\n",
              "        const docLinkHtml = 'Like what you see? Visit the ' +\n",
              "          '<a target=\"_blank\" href=https://colab.research.google.com/notebooks/data_table.ipynb>data table notebook</a>'\n",
              "          + ' to learn more about interactive tables.';\n",
              "        element.innerHTML = '';\n",
              "        dataTable['output_type'] = 'display_data';\n",
              "        await google.colab.output.renderOutput(dataTable, element);\n",
              "        const docLink = document.createElement('div');\n",
              "        docLink.innerHTML = docLinkHtml;\n",
              "        element.appendChild(docLink);\n",
              "      }\n",
              "    </script>\n",
              "  </div>\n",
              "\n",
              "\n",
              "<div id=\"df-943a96bf-e3a6-4e50-a350-017d25c7912f\">\n",
              "  <button class=\"colab-df-quickchart\" onclick=\"quickchart('df-943a96bf-e3a6-4e50-a350-017d25c7912f')\"\n",
              "            title=\"Suggest charts\"\n",
              "            style=\"display:none;\">\n",
              "\n",
              "<svg xmlns=\"http://www.w3.org/2000/svg\" height=\"24px\"viewBox=\"0 0 24 24\"\n",
              "     width=\"24px\">\n",
              "    <g>\n",
              "        <path d=\"M19 3H5c-1.1 0-2 .9-2 2v14c0 1.1.9 2 2 2h14c1.1 0 2-.9 2-2V5c0-1.1-.9-2-2-2zM9 17H7v-7h2v7zm4 0h-2V7h2v10zm4 0h-2v-4h2v4z\"/>\n",
              "    </g>\n",
              "</svg>\n",
              "  </button>\n",
              "\n",
              "<style>\n",
              "  .colab-df-quickchart {\n",
              "      --bg-color: #E8F0FE;\n",
              "      --fill-color: #1967D2;\n",
              "      --hover-bg-color: #E2EBFA;\n",
              "      --hover-fill-color: #174EA6;\n",
              "      --disabled-fill-color: #AAA;\n",
              "      --disabled-bg-color: #DDD;\n",
              "  }\n",
              "\n",
              "  [theme=dark] .colab-df-quickchart {\n",
              "      --bg-color: #3B4455;\n",
              "      --fill-color: #D2E3FC;\n",
              "      --hover-bg-color: #434B5C;\n",
              "      --hover-fill-color: #FFFFFF;\n",
              "      --disabled-bg-color: #3B4455;\n",
              "      --disabled-fill-color: #666;\n",
              "  }\n",
              "\n",
              "  .colab-df-quickchart {\n",
              "    background-color: var(--bg-color);\n",
              "    border: none;\n",
              "    border-radius: 50%;\n",
              "    cursor: pointer;\n",
              "    display: none;\n",
              "    fill: var(--fill-color);\n",
              "    height: 32px;\n",
              "    padding: 0;\n",
              "    width: 32px;\n",
              "  }\n",
              "\n",
              "  .colab-df-quickchart:hover {\n",
              "    background-color: var(--hover-bg-color);\n",
              "    box-shadow: 0 1px 2px rgba(60, 64, 67, 0.3), 0 1px 3px 1px rgba(60, 64, 67, 0.15);\n",
              "    fill: var(--button-hover-fill-color);\n",
              "  }\n",
              "\n",
              "  .colab-df-quickchart-complete:disabled,\n",
              "  .colab-df-quickchart-complete:disabled:hover {\n",
              "    background-color: var(--disabled-bg-color);\n",
              "    fill: var(--disabled-fill-color);\n",
              "    box-shadow: none;\n",
              "  }\n",
              "\n",
              "  .colab-df-spinner {\n",
              "    border: 2px solid var(--fill-color);\n",
              "    border-color: transparent;\n",
              "    border-bottom-color: var(--fill-color);\n",
              "    animation:\n",
              "      spin 1s steps(1) infinite;\n",
              "  }\n",
              "\n",
              "  @keyframes spin {\n",
              "    0% {\n",
              "      border-color: transparent;\n",
              "      border-bottom-color: var(--fill-color);\n",
              "      border-left-color: var(--fill-color);\n",
              "    }\n",
              "    20% {\n",
              "      border-color: transparent;\n",
              "      border-left-color: var(--fill-color);\n",
              "      border-top-color: var(--fill-color);\n",
              "    }\n",
              "    30% {\n",
              "      border-color: transparent;\n",
              "      border-left-color: var(--fill-color);\n",
              "      border-top-color: var(--fill-color);\n",
              "      border-right-color: var(--fill-color);\n",
              "    }\n",
              "    40% {\n",
              "      border-color: transparent;\n",
              "      border-right-color: var(--fill-color);\n",
              "      border-top-color: var(--fill-color);\n",
              "    }\n",
              "    60% {\n",
              "      border-color: transparent;\n",
              "      border-right-color: var(--fill-color);\n",
              "    }\n",
              "    80% {\n",
              "      border-color: transparent;\n",
              "      border-right-color: var(--fill-color);\n",
              "      border-bottom-color: var(--fill-color);\n",
              "    }\n",
              "    90% {\n",
              "      border-color: transparent;\n",
              "      border-bottom-color: var(--fill-color);\n",
              "    }\n",
              "  }\n",
              "</style>\n",
              "\n",
              "  <script>\n",
              "    async function quickchart(key) {\n",
              "      const quickchartButtonEl =\n",
              "        document.querySelector('#' + key + ' button');\n",
              "      quickchartButtonEl.disabled = true;  // To prevent multiple clicks.\n",
              "      quickchartButtonEl.classList.add('colab-df-spinner');\n",
              "      try {\n",
              "        const charts = await google.colab.kernel.invokeFunction(\n",
              "            'suggestCharts', [key], {});\n",
              "      } catch (error) {\n",
              "        console.error('Error during call to suggestCharts:', error);\n",
              "      }\n",
              "      quickchartButtonEl.classList.remove('colab-df-spinner');\n",
              "      quickchartButtonEl.classList.add('colab-df-quickchart-complete');\n",
              "    }\n",
              "    (() => {\n",
              "      let quickchartButtonEl =\n",
              "        document.querySelector('#df-943a96bf-e3a6-4e50-a350-017d25c7912f button');\n",
              "      quickchartButtonEl.style.display =\n",
              "        google.colab.kernel.accessAllowed ? 'block' : 'none';\n",
              "    })();\n",
              "  </script>\n",
              "</div>\n",
              "\n",
              "    </div>\n",
              "  </div>\n"
            ],
            "application/vnd.google.colaboratory.intrinsic+json": {
              "type": "dataframe",
              "variable_name": "air_qlty_df"
            }
          },
          "metadata": {},
          "execution_count": 27
        }
      ]
    },
    {
      "cell_type": "code",
      "source": [
        "#making spark database\n",
        "air_qlty_sdf = spark.createDataFrame(air_qlty_df.to_dict('records'))\n",
        "air_qlty_sdf"
      ],
      "metadata": {
        "colab": {
          "base_uri": "https://localhost:8080/"
        },
        "id": "eACv7mSwkiW2",
        "outputId": "73a04c21-4498-4c0c-e9c7-0f76993dd27b"
      },
      "execution_count": 32,
      "outputs": [
        {
          "output_type": "execute_result",
          "data": {
            "text/plain": [
              "DataFrame[BEN: double, CH4: double, CO: double, EBE: double, NMHC: double, NO: double, NO_2: double, NOx: double, O_3: double, PM10: double, PM25: double, SO_2: double, TCH: double, TOL: double, date: string]"
            ]
          },
          "metadata": {},
          "execution_count": 32
        }
      ]
    },
    {
      "cell_type": "code",
      "source": [
        "#checking dtypes of columns\n",
        "air_qlty_sdf.dtypes"
      ],
      "metadata": {
        "colab": {
          "base_uri": "https://localhost:8080/"
        },
        "id": "hlazF-bokiRc",
        "outputId": "24421316-88ca-4b0c-9ea2-d4324a6b94e4"
      },
      "execution_count": 33,
      "outputs": [
        {
          "output_type": "execute_result",
          "data": {
            "text/plain": [
              "[('BEN', 'double'),\n",
              " ('CH4', 'double'),\n",
              " ('CO', 'double'),\n",
              " ('EBE', 'double'),\n",
              " ('NMHC', 'double'),\n",
              " ('NO', 'double'),\n",
              " ('NO_2', 'double'),\n",
              " ('NOx', 'double'),\n",
              " ('O_3', 'double'),\n",
              " ('PM10', 'double'),\n",
              " ('PM25', 'double'),\n",
              " ('SO_2', 'double'),\n",
              " ('TCH', 'double'),\n",
              " ('TOL', 'double'),\n",
              " ('date', 'string')]"
            ]
          },
          "metadata": {},
          "execution_count": 33
        }
      ]
    },
    {
      "cell_type": "code",
      "source": [
        "#manipulating database using PySpark\n",
        "air_qlty_sdf.select('date', 'NOx').show(5)\n"
      ],
      "metadata": {
        "colab": {
          "base_uri": "https://localhost:8080/"
        },
        "id": "5Eyu1A_8kiMp",
        "outputId": "ca324056-926e-4fec-b914-20587f1cbcfe"
      },
      "execution_count": 43,
      "outputs": [
        {
          "output_type": "stream",
          "name": "stdout",
          "text": [
            "+-------------------+------------------+\n",
            "|               date|               NOx|\n",
            "+-------------------+------------------+\n",
            "|2001-07-01 01:00:00|            1017.0|\n",
            "|2001-07-01 02:00:00|409.20001220703125|\n",
            "|2001-07-01 03:00:00|143.39999389648438|\n",
            "|2001-07-01 04:00:00| 149.3000030517578|\n",
            "|2001-07-01 05:00:00|124.80000305175781|\n",
            "+-------------------+------------------+\n",
            "only showing top 5 rows\n",
            "\n"
          ]
        }
      ]
    },
    {
      "cell_type": "markdown",
      "source": [
        "##Spark to Hive"
      ],
      "metadata": {
        "id": "shiqQSP1oyIx"
      }
    },
    {
      "cell_type": "code",
      "source": [
        "#quering Spark database using Hadoop SQL engine (Hive)\n",
        "air_qlty_sdf.createOrReplaceTempView(\"air_qlty\")"
      ],
      "metadata": {
        "id": "Pr97KnLYlSKK"
      },
      "execution_count": 44,
      "outputs": []
    },
    {
      "cell_type": "code",
      "source": [
        "#creating sql database Analytics\n",
        "\n",
        "sql_drop_table = \"\"\"\n",
        "drop table if exists analytics.pandas_spark_hive\n",
        "\"\"\"\n",
        "\n",
        "sql_drop_database = \"\"\"\n",
        "drop database if exists analytics cascade\n",
        "\"\"\"\n",
        "\n",
        "sql_create_database = \"\"\"\n",
        "create database if not exists analytics\n",
        "location '/user/cloudera/analytics/'\n",
        "\"\"\"\n",
        "\n",
        "sql_create_table = \"\"\"\n",
        "create table if not exists analytics.pandas_spark_hive\n",
        "using parquet\n",
        "as select to_timestamp(date) as date_parsed, *\n",
        "from air_qlty\n",
        "\"\"\"\n",
        "\n",
        "print(\"dropping database...\")\n",
        "result_drop_db = spark.sql(sql_drop_database)\n",
        "\n",
        "print(\"creating database...\")\n",
        "result_create_db = spark.sql(sql_create_database)\n",
        "\n",
        "print(\"dropping table...\")\n",
        "result_droptable = spark.sql(sql_drop_table)\n",
        "\n",
        "print(\"creating table...\")\n",
        "result_create_table = spark.sql(sql_create_table)"
      ],
      "metadata": {
        "colab": {
          "base_uri": "https://localhost:8080/"
        },
        "id": "ZTrKlZj4lR-I",
        "outputId": "52f07d5d-f03a-4ab4-ad94-cde1627db2f3"
      },
      "execution_count": 45,
      "outputs": [
        {
          "output_type": "stream",
          "name": "stdout",
          "text": [
            "dropping database...\n",
            "creating database...\n",
            "dropping table...\n",
            "creating table...\n"
          ]
        }
      ]
    },
    {
      "cell_type": "code",
      "source": [
        "#using Spark SQL engine to check database table\n",
        "spark.sql(\"show tables\").show()"
      ],
      "metadata": {
        "colab": {
          "base_uri": "https://localhost:8080/"
        },
        "id": "7VlM6kEhnbii",
        "outputId": "c585f499-855f-483b-e90e-f90d98d50ae7"
      },
      "execution_count": 46,
      "outputs": [
        {
          "output_type": "stream",
          "name": "stdout",
          "text": [
            "+--------+---------+-----------+\n",
            "|database|tableName|isTemporary|\n",
            "+--------+---------+-----------+\n",
            "|        | air_qlty|       true|\n",
            "+--------+---------+-----------+\n",
            "\n"
          ]
        }
      ]
    },
    {
      "cell_type": "code",
      "source": [
        "#using Spark SQL engine\n",
        "spark.sql(\"select * from analytics.pandas_spark_hive\").show()\n"
      ],
      "metadata": {
        "colab": {
          "base_uri": "https://localhost:8080/"
        },
        "id": "nwW_tYfznbdF",
        "outputId": "2b3a25a9-0723-4d22-91c5-8aeda555cb42"
      },
      "execution_count": 61,
      "outputs": [
        {
          "output_type": "stream",
          "name": "stdout",
          "text": [
            "+-------------------+------------------+---+-------------------+------------------+----+---+------------------+------------------+------------------+------------------+----+------------------+---+------------------+-------------------+\n",
            "|        date_parsed|               BEN|CH4|                 CO|               EBE|NMHC| NO|              NO_2|               NOx|               O_3|              PM10|PM25|              SO_2|TCH|               TOL|               date|\n",
            "+-------------------+------------------+---+-------------------+------------------+----+---+------------------+------------------+------------------+------------------+----+------------------+---+------------------+-------------------+\n",
            "|2001-07-01 01:00:00|30.649999618530273|NaN|  6.909999847412109| 42.63999938964844| NaN|NaN|381.29998779296875|            1017.0| 9.010000228881836|158.89999389648438| NaN|  47.5099983215332|NaN| 76.05000305175781|2001-07-01 01:00:00|\n",
            "|2001-07-01 02:00:00| 29.59000015258789|NaN| 2.5899999141693115| 50.36000061035156| NaN|NaN|             209.5|409.20001220703125| 23.81999969482422|104.80000305175781| NaN|20.950000762939453|NaN|  84.9000015258789|2001-07-01 02:00:00|\n",
            "|2001-07-01 03:00:00| 4.690000057220459|NaN| 0.7599999904632568| 25.56999969482422| NaN|NaN| 116.4000015258789|143.39999389648438|31.059999465942383|48.470001220703125| NaN|11.270000457763672|NaN|20.979999542236328|2001-07-01 03:00:00|\n",
            "|2001-07-01 04:00:00| 4.460000038146973|NaN| 0.7400000095367432|  22.6299991607666| NaN|NaN|116.19999694824219| 149.3000030517578|23.780000686645508|              47.5| NaN|10.100000381469727|NaN|14.770000457763672|2001-07-01 04:00:00|\n",
            "|2001-07-01 05:00:00| 2.180000066757202|NaN| 0.5699999928474426|11.920000076293945| NaN|NaN| 100.9000015258789|124.80000305175781|29.530000686645508|49.689998626708984| NaN| 7.679999828338623|NaN| 8.970000267028809|2001-07-01 05:00:00|\n",
            "|2001-07-01 06:00:00|1.4299999475479126|NaN|0.46000000834465027| 7.820000171661377| NaN|NaN| 87.58000183105469|103.30000305175781| 38.31999969482422|  29.8700008392334| NaN| 7.590000152587891|NaN| 8.180000305175781|2001-07-01 06:00:00|\n",
            "|2001-07-01 07:00:00|1.2699999809265137|NaN|0.46000000834465027| 6.480000019073486| NaN|NaN|              82.5|  93.6500015258789|40.290000915527344|33.779998779296875| NaN| 7.940000057220459|NaN| 7.659999847412109|2001-07-01 07:00:00|\n",
            "|2001-07-01 08:00:00|1.8300000429153442|NaN|0.41999998688697815|               6.5| NaN|NaN| 75.68000030517578|  86.8499984741211|39.720001220703125|50.849998474121094| NaN| 8.170000076293945|NaN| 7.880000114440918|2001-07-01 08:00:00|\n",
            "|2001-07-01 09:00:00|              1.25|NaN| 0.4099999964237213| 4.199999809265137| NaN|NaN|  75.5199966430664| 88.70999908447266|44.060001373291016|39.779998779296875| NaN| 7.949999809265137|NaN| 6.239999771118164|2001-07-01 09:00:00|\n",
            "|2001-07-01 10:00:00| 1.649999976158142|NaN| 0.4300000071525574| 4.480000019073486| NaN|NaN| 71.66000366210938| 86.51000213623047| 53.34000015258789|44.209999084472656| NaN| 8.359999656677246|NaN| 5.730000019073486|2001-07-01 10:00:00|\n",
            "|2001-07-01 11:00:00|1.4299999475479126|NaN| 0.4699999988079071| 3.619999885559082| NaN|NaN| 72.77999877929688| 91.18000030517578| 64.94999694824219|26.579999923706055| NaN| 8.270000457763672|NaN| 5.360000133514404|2001-07-01 11:00:00|\n",
            "|2001-07-01 12:00:00| 1.190000057220459|NaN| 0.4099999964237213| 3.380000114440918| NaN|NaN|56.029998779296875| 70.16000366210938| 90.91999816894531| 27.68000030517578| NaN| 7.920000076293945|NaN| 4.949999809265137|2001-07-01 12:00:00|\n",
            "|2001-07-01 13:00:00|1.0700000524520874|NaN|0.41999998688697815|3.1700000762939453| NaN|NaN| 49.65999984741211| 62.06999969482422| 105.9000015258789|30.790000915527344| NaN|  7.21999979019165|NaN| 4.789999961853027|2001-07-01 13:00:00|\n",
            "|2001-07-01 14:00:00|1.1799999475479126|NaN|0.44999998807907104|3.0399999618530273| NaN|NaN| 52.04999923706055| 64.83000183105469|108.19999694824219| 26.59000015258789| NaN| 5.960000038146973|NaN| 4.550000190734863|2001-07-01 14:00:00|\n",
            "|2001-07-01 15:00:00|1.5800000429153442|NaN| 0.3499999940395355| 3.700000047683716| NaN|NaN|42.040000915527344| 51.81999969482422|118.80000305175781| 31.34000015258789| NaN|               6.0|NaN| 4.019999980926514|2001-07-01 15:00:00|\n",
            "|2001-07-01 16:00:00|1.2200000286102295|NaN|0.28999999165534973| 2.859999895095825| NaN|NaN|28.549999237060547| 33.38999938964844|132.89999389648438| 32.45000076293945| NaN|              5.25|NaN|              2.75|2001-07-01 16:00:00|\n",
            "|2001-07-01 17:00:00|1.2799999713897705|NaN|0.28999999165534973| 2.309999942779541| NaN|NaN| 34.83000183105469| 40.13999938964844| 135.3000030517578|28.729999542236328| NaN| 5.340000152587891|NaN| 2.440000057220459|2001-07-01 17:00:00|\n",
            "|2001-07-01 18:00:00|1.8200000524520874|NaN|0.28999999165534973| 2.569999933242798| NaN|NaN|  32.5099983215332| 35.79999923706055|141.60000610351562|27.530000686645508| NaN| 5.170000076293945|NaN|2.7300000190734863|2001-07-01 18:00:00|\n",
            "|2001-07-01 19:00:00|1.7200000286102295|NaN| 0.4399999976158142|2.4000000953674316| NaN|NaN| 59.45000076293945| 70.81999969482422| 121.0999984741211|             40.25| NaN| 5.949999809265137|NaN| 3.130000114440918|2001-07-01 19:00:00|\n",
            "|2001-07-01 20:00:00|1.6100000143051147|NaN| 0.4699999988079071|2.7300000190734863| NaN|NaN| 66.91000366210938| 76.80000305175781| 114.4000015258789|32.029998779296875| NaN|              6.25|NaN|3.9100000858306885|2001-07-01 20:00:00|\n",
            "+-------------------+------------------+---+-------------------+------------------+----+---+------------------+------------------+------------------+------------------+----+------------------+---+------------------+-------------------+\n",
            "only showing top 20 rows\n",
            "\n"
          ]
        }
      ]
    },
    {
      "cell_type": "code",
      "source": [
        "#checking certain columns date and 0_3\n",
        "spark.sql(\"select * from analytics.pandas_spark_hive\") \\\n",
        ".select(\"date_parsed\", \"O_3\").show(5)"
      ],
      "metadata": {
        "colab": {
          "base_uri": "https://localhost:8080/"
        },
        "id": "sNiDg74csid_",
        "outputId": "44d0e6e6-486f-40c4-e53d-fbb67a6f60da"
      },
      "execution_count": 62,
      "outputs": [
        {
          "output_type": "stream",
          "name": "stdout",
          "text": [
            "+-------------------+------------------+\n",
            "|        date_parsed|               O_3|\n",
            "+-------------------+------------------+\n",
            "|2001-07-01 01:00:00| 9.010000228881836|\n",
            "|2001-07-01 02:00:00| 23.81999969482422|\n",
            "|2001-07-01 03:00:00|31.059999465942383|\n",
            "|2001-07-01 04:00:00|23.780000686645508|\n",
            "|2001-07-01 05:00:00|29.530000686645508|\n",
            "+-------------------+------------------+\n",
            "only showing top 5 rows\n",
            "\n"
          ]
        }
      ]
    },
    {
      "cell_type": "code",
      "source": [],
      "metadata": {
        "id": "DbQFXV5gul_L"
      },
      "execution_count": null,
      "outputs": []
    }
  ]
}