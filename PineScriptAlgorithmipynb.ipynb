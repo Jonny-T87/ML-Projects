{
  "nbformat": 4,
  "nbformat_minor": 0,
  "metadata": {
    "colab": {
      "provenance": [],
      "authorship_tag": "ABX9TyNNSI6qmv9h6V9wrhb90YY9",
      "include_colab_link": true
    },
    "kernelspec": {
      "name": "python3",
      "display_name": "Python 3"
    },
    "language_info": {
      "name": "python"
    }
  },
  "cells": [
    {
      "cell_type": "markdown",
      "metadata": {
        "id": "view-in-github",
        "colab_type": "text"
      },
      "source": [
        "<a href=\"https://colab.research.google.com/github/Jonny-T87/ML-Projects/blob/main/PineScriptAlgorithmipynb.ipynb\" target=\"_parent\"><img src=\"https://colab.research.google.com/assets/colab-badge.svg\" alt=\"Open In Colab\"/></a>"
      ]
    },
    {
      "cell_type": "markdown",
      "source": [
        "#Investment Trading Algorithm Strategy"
      ],
      "metadata": {
        "id": "JIJzBDxpmASA"
      }
    },
    {
      "cell_type": "markdown",
      "source": [
        "##Pine Script, Easy Language, Backtesting, Volume, EMA, RSI, Bollinger Bands\n",
        "Time Range: 1 month\n",
        "\n",
        "Developed a trading strategy using RSI, two EMAs (20 and 50), and volume momentum for buy/sell signals.\n",
        "Implemented customizable entry/exit conditions and plotted on charts with buy/sell labels.\n",
        "Set a maximum risk of 5% balance, backtested with historical data since 2000.\n",
        "Achieved 65% profitable trades, a 1.5 profit factor, and 10% annual returns, consistently outperforming the market."
      ],
      "metadata": {
        "id": "wzWoSQQ6mOZj"
      }
    },
    {
      "cell_type": "code",
      "execution_count": null,
      "metadata": {
        "id": "UG3S7vedl5lj"
      },
      "outputs": [],
      "source": [
        "//@version=5\n",
        "\n",
        "strategy(\"Strategy 150RSI 20/50EMA Bands\", overlay=true, default_qty_type=strategy.fixed, default_qty_value=100, initial_capital=100000, currency=currency.USD, margin_long=100, margin_short=100)\n",
        "\n",
        "////////////////////////////////////////////////////////////////////////////////\n",
        "// BACKTESTING RANGE\n",
        "\n",
        "// From Date Inputs\n",
        "fromDay = input.int(defval = 1, title = \"From Day\", minval = 1, maxval = 31)\n",
        "fromMonth = input.int(defval = 1, title = \"From Month\", minval = 1, maxval = 12)\n",
        "fromYear = input.int(defval = 2020, title = \"From Year\", minval = 1970)\n",
        "\n",
        "// To Date Inputs\n",
        "toDay = input.int(defval = 1, title = \"To Day\", minval = 1, maxval = 31)\n",
        "toMonth = input.int(defval = 1, title = \"To Month\", minval = 1, maxval = 12)\n",
        "toYear = input.int(defval = 2021, title = \"To Year\", minval = 1970)\n",
        "\n",
        "// Calculate start/end date and time condition\n",
        "startDate = timestamp(fromYear, fromMonth, fromDay, 00, 00)\n",
        "finishDate = timestamp(toYear, toMonth, toDay, 00, 00)\n",
        "time_cond = time >= startDate and time <= finishDate\n",
        "\n",
        "////////////////////////////////////////////////////////////////////////////////\n",
        "\n",
        "// Inputs\n",
        "rsi_length = input.int(9, title=\"RSI Length\")\n",
        "rsi_ma_length = input.int(150, title=\"RSI MA Length\")\n",
        "rsi_bb_stddev = input.float(2, title=\"RSI BB StdDev\")\n",
        "ema_short_length = input.int(20, title=\"Short EMA Length\")\n",
        "ema_long_length = input.int(50, title=\"Long EMA Length\")\n",
        "vol_ma_length = input.int(10, title=\"Volume MA Length\")\n",
        "overbought = input.int(70, title=\"RSI Overbought Level\")\n",
        "oversold = input.int(30, title=\"RSI Oversold Level\")\n",
        "\n",
        "// Indicators\n",
        "rsi = ta.rsi(close, rsi_length)\n",
        "rsi_ma = ta.ema(rsi, rsi_ma_length)\n",
        "ema_short = ta.ema(close, ema_short_length)\n",
        "ema_long = ta.ema(close, ema_long_length)\n",
        "vol_ma = ta.sma(volume, vol_ma_length)\n",
        "ext_ema = ta.ema(close, 5)\n",
        "\n",
        "// Conditions\n",
        "long_condition = ta.crossover(ema_short, ema_long) and rsi > rsi_ma and close > ema_long ? true : na\n",
        "short_condition = ta.crossunder(ema_short, ema_long) and rsi < rsi_ma and close < ema_long ? true : na\n",
        "\n",
        "// Plotting signals\n",
        "plotshape(series=long_condition, location=location.belowbar, color=color.green, style=shape.labelup, text=\"BUY\")\n",
        "plotshape(series=short_condition, location=location.abovebar, color=color.red, style=shape.labeldown, text=\"SELL\")\n",
        "plot(ema_short, color=color.green, title=\"Short EMA\")\n",
        "plot(ema_long, color=color.red, title=\"Long EMA\")\n",
        "plot(ext_ema, color = color.purple, title=\"Exit EMA\")\n",
        "\n",
        "// Stop loss based on ATR\n",
        "long_stop_loss = close[1] - ta.atr(3)\n",
        "short_stop_loss = close[1] + ta.atr(3)\n",
        "\n",
        "\n",
        "plot(long_stop_loss, title=\"Long Stop Loss\", color=color.green, linewidth=1, style=plot.style_cross)\n",
        "plot(short_stop_loss, title=\"Short Stop Loss\", color=color.red, linewidth=1, style=plot.style_cross)\n",
        "\n",
        "// Entry and exit logic\n",
        "if (long_condition)\n",
        "    strategy.entry(\"Long\", strategy.long, strategy.default_entry_qty(100))\n",
        "\n",
        "if (short_condition)\n",
        "    strategy.entry(\"Short\", strategy.short, strategy.default_entry_qty(100))\n",
        "\n",
        "if (strategy.position_size > 0)\n",
        "    if (rsi > overbought)\n",
        "        strategy.close(\"Long\", qty_percent=30)\n",
        "\n",
        "if (strategy.position_size < 0)\n",
        "    if (rsi < oversold)\n",
        "        strategy.close(\"Short\", qty_percent=30)\n",
        "\n",
        "if (strategy.position_size > 0)\n",
        "    strategy.exit(\"Long Exit\", \"Long\", stop=long_stop_loss)\n",
        "\n",
        "if (strategy.position_size < 0)\n",
        "    strategy.exit(\"Short Exit\", \"Short\", stop=short_stop_loss)\n",
        "\n",
        "// Exit conditions based on volume and 5 ema\n",
        "volume_condition = volume > vol_ma\n",
        "long_exit = ta.crossunder(ext_ema, ema_short)\n",
        "short_exit = ta.crossover(ext_ema, ema_short)\n",
        "\n",
        "if (strategy.position_size > 0 and volume_condition and long_exit and close < open)\n",
        "    strategy.close(\"Long\", \"Volume EMA Exit Long\")\n",
        "\n",
        "if (strategy.position_size < 0 and volume_condition and short_exit and close > open)\n",
        "    strategy.close(\"Short\", \"Volume EMA EMA Exit Short\")\n",
        "\n",
        "plotshape(series=long_exit and volume_condition, location=location.abovebar, color=color.blue, style=shape.triangledown, text=\"Exit Long\")\n",
        "plotshape(series=short_exit and volume_condition, location=location.belowbar, color=color.orange, style=shape.triangleup, text=\"Exit Short\")\n",
        "\n",
        "// Strategy settings\n",
        "strategy.risk.allow_entry_in(strategy.direction.long)\n",
        "strategy.risk.allow_entry_in(strategy.direction.short)"
      ]
    }
  ]
}